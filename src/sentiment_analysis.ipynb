{
 "cells": [
  {
   "cell_type": "markdown",
   "id": "1f6eacc4-3e28-435d-98e0-baec34af4dab",
   "metadata": {},
   "source": [
    "# Amazon Fine Food Review and Rating Score (Sentiment Analysis)"
   ]
  },
  {
   "cell_type": "code",
   "execution_count": 1,
   "id": "c45dfce7-f52b-41bf-a2d5-39d0f96663f2",
   "metadata": {},
   "outputs": [],
   "source": [
    "#libraries\n",
    "import pandas as pd\n",
    "import numpy as np\n",
    "import matplotlib.pyplot as plt\n",
    "import seaborn as sns\n",
    "sns.set_theme(style='darkgrid', context='talk')\n",
    "import warnings \n",
    "# Settings the warnings to be ignored \n",
    "warnings.filterwarnings('ignore')\n",
    "import nltk\n",
    "\n",
    "#include modules\n",
    "from modules.data_preprocessing import remove_tags\n",
    "from modules.model import blob_senti,vader_senti\n"
   ]
  },
  {
   "cell_type": "code",
   "execution_count": 2,
   "id": "358ca6e4-7aaa-4bc8-9184-0fd70badb807",
   "metadata": {},
   "outputs": [
    {
     "name": "stdout",
     "output_type": "stream",
     "text": [
      "(2000, 10)\n"
     ]
    }
   ],
   "source": [
    "# Read in data\n",
    "df = pd.read_csv('/Users/.../Amazon-Review-Sentiment-Analysis-Project/data/Reviews_data.csv')\n",
    "print(df.shape)"
   ]
  },
  {
   "cell_type": "code",
   "execution_count": 3,
   "id": "5e37c5db-3222-4e8e-b246-535c84705b0e",
   "metadata": {},
   "outputs": [
    {
     "data": {
      "text/html": [
       "<div>\n",
       "<style scoped>\n",
       "    .dataframe tbody tr th:only-of-type {\n",
       "        vertical-align: middle;\n",
       "    }\n",
       "\n",
       "    .dataframe tbody tr th {\n",
       "        vertical-align: top;\n",
       "    }\n",
       "\n",
       "    .dataframe thead th {\n",
       "        text-align: right;\n",
       "    }\n",
       "</style>\n",
       "<table border=\"1\" class=\"dataframe\">\n",
       "  <thead>\n",
       "    <tr style=\"text-align: right;\">\n",
       "      <th></th>\n",
       "      <th>Id</th>\n",
       "      <th>ProductId</th>\n",
       "      <th>UserId</th>\n",
       "      <th>ProfileName</th>\n",
       "      <th>HelpfulnessNumerator</th>\n",
       "      <th>HelpfulnessDenominator</th>\n",
       "      <th>Score</th>\n",
       "      <th>Time</th>\n",
       "      <th>Summary</th>\n",
       "      <th>Text</th>\n",
       "    </tr>\n",
       "  </thead>\n",
       "  <tbody>\n",
       "    <tr>\n",
       "      <th>0</th>\n",
       "      <td>1.0</td>\n",
       "      <td>B001E4KFG0</td>\n",
       "      <td>A3SGXH7AUHU8GW</td>\n",
       "      <td>delmartian</td>\n",
       "      <td>1.0</td>\n",
       "      <td>1.0</td>\n",
       "      <td>5.0</td>\n",
       "      <td>1.303862e+09</td>\n",
       "      <td>Good Quality Dog Food</td>\n",
       "      <td>I have bought several of the Vitality canned d...</td>\n",
       "    </tr>\n",
       "    <tr>\n",
       "      <th>1</th>\n",
       "      <td>2.0</td>\n",
       "      <td>B00813GRG4</td>\n",
       "      <td>A1D87F6ZCVE5NK</td>\n",
       "      <td>dll pa</td>\n",
       "      <td>0.0</td>\n",
       "      <td>0.0</td>\n",
       "      <td>1.0</td>\n",
       "      <td>1.346976e+09</td>\n",
       "      <td>Not as Advertised</td>\n",
       "      <td>Product arrived labeled as Jumbo Salted Peanut...</td>\n",
       "    </tr>\n",
       "    <tr>\n",
       "      <th>2</th>\n",
       "      <td>3.0</td>\n",
       "      <td>B000LQOCH0</td>\n",
       "      <td>ABXLMWJIXXAIN</td>\n",
       "      <td>Natalia Corres \"Natalia Corres\"</td>\n",
       "      <td>1.0</td>\n",
       "      <td>1.0</td>\n",
       "      <td>4.0</td>\n",
       "      <td>1.219018e+09</td>\n",
       "      <td>\"Delight\" says it all</td>\n",
       "      <td>This is a confection that has been around a fe...</td>\n",
       "    </tr>\n",
       "    <tr>\n",
       "      <th>3</th>\n",
       "      <td>4.0</td>\n",
       "      <td>B000UA0QIQ</td>\n",
       "      <td>A395BORC6FGVXV</td>\n",
       "      <td>Karl</td>\n",
       "      <td>3.0</td>\n",
       "      <td>3.0</td>\n",
       "      <td>2.0</td>\n",
       "      <td>1.307923e+09</td>\n",
       "      <td>Cough Medicine</td>\n",
       "      <td>If you are looking for the secret ingredient i...</td>\n",
       "    </tr>\n",
       "    <tr>\n",
       "      <th>4</th>\n",
       "      <td>5.0</td>\n",
       "      <td>B006K2ZZ7K</td>\n",
       "      <td>A1UQRSCLF8GW1T</td>\n",
       "      <td>Michael D. Bigham \"M. Wassir\"</td>\n",
       "      <td>0.0</td>\n",
       "      <td>0.0</td>\n",
       "      <td>5.0</td>\n",
       "      <td>1.350778e+09</td>\n",
       "      <td>Great taffy</td>\n",
       "      <td>Great taffy at a great price.  There was a wid...</td>\n",
       "    </tr>\n",
       "  </tbody>\n",
       "</table>\n",
       "</div>"
      ],
      "text/plain": [
       "    Id   ProductId          UserId                      ProfileName  \\\n",
       "0  1.0  B001E4KFG0  A3SGXH7AUHU8GW                       delmartian   \n",
       "1  2.0  B00813GRG4  A1D87F6ZCVE5NK                           dll pa   \n",
       "2  3.0  B000LQOCH0   ABXLMWJIXXAIN  Natalia Corres \"Natalia Corres\"   \n",
       "3  4.0  B000UA0QIQ  A395BORC6FGVXV                             Karl   \n",
       "4  5.0  B006K2ZZ7K  A1UQRSCLF8GW1T    Michael D. Bigham \"M. Wassir\"   \n",
       "\n",
       "   HelpfulnessNumerator  HelpfulnessDenominator  Score          Time  \\\n",
       "0                   1.0                     1.0    5.0  1.303862e+09   \n",
       "1                   0.0                     0.0    1.0  1.346976e+09   \n",
       "2                   1.0                     1.0    4.0  1.219018e+09   \n",
       "3                   3.0                     3.0    2.0  1.307923e+09   \n",
       "4                   0.0                     0.0    5.0  1.350778e+09   \n",
       "\n",
       "                 Summary                                               Text  \n",
       "0  Good Quality Dog Food  I have bought several of the Vitality canned d...  \n",
       "1      Not as Advertised  Product arrived labeled as Jumbo Salted Peanut...  \n",
       "2  \"Delight\" says it all  This is a confection that has been around a fe...  \n",
       "3         Cough Medicine  If you are looking for the secret ingredient i...  \n",
       "4            Great taffy  Great taffy at a great price.  There was a wid...  "
      ]
     },
     "execution_count": 3,
     "metadata": {},
     "output_type": "execute_result"
    }
   ],
   "source": [
    "df.head()"
   ]
  },
  {
   "cell_type": "code",
   "execution_count": 4,
   "id": "3b0b2d9a-55c7-4e35-a150-42a22542348a",
   "metadata": {},
   "outputs": [
    {
     "name": "stdout",
     "output_type": "stream",
     "text": [
      "Great taffy at a great price.  There was a wide assortment of yummy taffy.  Delivery was very quick.  If your a taffy lover, this is a deal.\n"
     ]
    }
   ],
   "source": [
    "example_pos = df['Text'][4]\n",
    "print(example_pos)"
   ]
  },
  {
   "cell_type": "code",
   "execution_count": 5,
   "id": "a83c8ba4-f90b-47ea-a848-7564976e7d88",
   "metadata": {},
   "outputs": [
    {
     "name": "stdout",
     "output_type": "stream",
     "text": [
      "This oatmeal is not good. Its mushy, soft, I don't like it. Quaker Oats is the way to go.\n"
     ]
    }
   ],
   "source": [
    "example_neg = df['Text'][50]\n",
    "print(example_neg)"
   ]
  },
  {
   "cell_type": "markdown",
   "id": "e5ff2096-b77e-48e0-a3eb-c731a11b6577",
   "metadata": {},
   "source": [
    "# EDA"
   ]
  },
  {
   "cell_type": "code",
   "execution_count": 6,
   "id": "1172f78d-5dfd-45c2-bf64-9c0d607a9eb4",
   "metadata": {},
   "outputs": [
    {
     "name": "stdout",
     "output_type": "stream",
     "text": [
      "<class 'pandas.core.frame.DataFrame'>\n",
      "RangeIndex: 2000 entries, 0 to 1999\n",
      "Data columns (total 10 columns):\n",
      " #   Column                  Non-Null Count  Dtype  \n",
      "---  ------                  --------------  -----  \n",
      " 0   Id                      2000 non-null   float64\n",
      " 1   ProductId               2000 non-null   object \n",
      " 2   UserId                  2000 non-null   object \n",
      " 3   ProfileName             2000 non-null   object \n",
      " 4   HelpfulnessNumerator    2000 non-null   float64\n",
      " 5   HelpfulnessDenominator  2000 non-null   float64\n",
      " 6   Score                   2000 non-null   float64\n",
      " 7   Time                    2000 non-null   float64\n",
      " 8   Summary                 2000 non-null   object \n",
      " 9   Text                    2000 non-null   object \n",
      "dtypes: float64(5), object(5)\n",
      "memory usage: 156.4+ KB\n"
     ]
    }
   ],
   "source": [
    "df.info() #summary"
   ]
  },
  {
   "cell_type": "markdown",
   "id": "b5864ed2-cfe3-49a9-b895-ee202c67cb63",
   "metadata": {},
   "source": [
    "**Note:** The above output shows that there is no any NULL value in the dataset."
   ]
  },
  {
   "cell_type": "code",
   "execution_count": 7,
   "id": "a0605222-09c7-4828-a952-5724fb0e850f",
   "metadata": {},
   "outputs": [],
   "source": [
    "# drop the columns which we does not require\n",
    "df.drop(columns=['HelpfulnessNumerator','HelpfulnessDenominator','Summary','ProfileName'],inplace=True)"
   ]
  },
  {
   "cell_type": "code",
   "execution_count": 8,
   "id": "ca1cae0a-f285-4ff9-afb3-a979c40d5c00",
   "metadata": {},
   "outputs": [
    {
     "data": {
      "text/plain": [
       "Time\n",
       "1.322438e+09    10\n",
       "1.350346e+09     7\n",
       "1.314490e+09     7\n",
       "1.347149e+09     7\n",
       "1.261786e+09     7\n",
       "                ..\n",
       "1.230595e+09     1\n",
       "1.211674e+09     1\n",
       "1.210205e+09     1\n",
       "1.201651e+09     1\n",
       "1.265760e+09     1\n",
       "Name: count, Length: 1134, dtype: int64"
      ]
     },
     "execution_count": 8,
     "metadata": {},
     "output_type": "execute_result"
    }
   ],
   "source": [
    "df['Time'].value_counts()"
   ]
  },
  {
   "cell_type": "markdown",
   "id": "4f78db23-683a-4063-9b51-a05c1c783605",
   "metadata": {},
   "source": [
    "**Note:** We have to convert this timestamp to date"
   ]
  },
  {
   "cell_type": "code",
   "execution_count": 9,
   "id": "a117a0ff-f480-47a3-b64d-9bc11760bf80",
   "metadata": {},
   "outputs": [
    {
     "data": {
      "text/plain": [
       "0      2011-04-27\n",
       "1      2012-09-07\n",
       "2      2008-08-18\n",
       "3      2011-06-13\n",
       "4      2012-10-21\n",
       "          ...    \n",
       "1995   2010-02-11\n",
       "1996   2010-07-24\n",
       "1997   2009-08-19\n",
       "1998   2010-02-10\n",
       "1999   2008-03-30\n",
       "Name: review_dt, Length: 2000, dtype: datetime64[ns]"
      ]
     },
     "execution_count": 9,
     "metadata": {},
     "output_type": "execute_result"
    }
   ],
   "source": [
    "df['review_dt']= pd.to_datetime(df['Time'], unit='s')\n",
    "df['review_dt']"
   ]
  },
  {
   "cell_type": "code",
   "execution_count": 10,
   "id": "d5f3c9b3-11d7-49ad-a64f-18f6b3b40683",
   "metadata": {},
   "outputs": [],
   "source": [
    "#Drop Time column\n",
    "df.drop(columns=['Time'],inplace=True)"
   ]
  },
  {
   "cell_type": "code",
   "execution_count": 11,
   "id": "3e749786-8642-4f15-80c7-c3d7c5fbba08",
   "metadata": {},
   "outputs": [
    {
     "data": {
      "text/html": [
       "<div>\n",
       "<style scoped>\n",
       "    .dataframe tbody tr th:only-of-type {\n",
       "        vertical-align: middle;\n",
       "    }\n",
       "\n",
       "    .dataframe tbody tr th {\n",
       "        vertical-align: top;\n",
       "    }\n",
       "\n",
       "    .dataframe thead th {\n",
       "        text-align: right;\n",
       "    }\n",
       "</style>\n",
       "<table border=\"1\" class=\"dataframe\">\n",
       "  <thead>\n",
       "    <tr style=\"text-align: right;\">\n",
       "      <th></th>\n",
       "      <th>Id</th>\n",
       "      <th>ProductId</th>\n",
       "      <th>UserId</th>\n",
       "      <th>Score</th>\n",
       "      <th>Text</th>\n",
       "      <th>review_dt</th>\n",
       "    </tr>\n",
       "  </thead>\n",
       "  <tbody>\n",
       "    <tr>\n",
       "      <th>0</th>\n",
       "      <td>1.0</td>\n",
       "      <td>B001E4KFG0</td>\n",
       "      <td>A3SGXH7AUHU8GW</td>\n",
       "      <td>5.0</td>\n",
       "      <td>I have bought several of the Vitality canned d...</td>\n",
       "      <td>2011-04-27</td>\n",
       "    </tr>\n",
       "    <tr>\n",
       "      <th>1</th>\n",
       "      <td>2.0</td>\n",
       "      <td>B00813GRG4</td>\n",
       "      <td>A1D87F6ZCVE5NK</td>\n",
       "      <td>1.0</td>\n",
       "      <td>Product arrived labeled as Jumbo Salted Peanut...</td>\n",
       "      <td>2012-09-07</td>\n",
       "    </tr>\n",
       "    <tr>\n",
       "      <th>2</th>\n",
       "      <td>3.0</td>\n",
       "      <td>B000LQOCH0</td>\n",
       "      <td>ABXLMWJIXXAIN</td>\n",
       "      <td>4.0</td>\n",
       "      <td>This is a confection that has been around a fe...</td>\n",
       "      <td>2008-08-18</td>\n",
       "    </tr>\n",
       "    <tr>\n",
       "      <th>3</th>\n",
       "      <td>4.0</td>\n",
       "      <td>B000UA0QIQ</td>\n",
       "      <td>A395BORC6FGVXV</td>\n",
       "      <td>2.0</td>\n",
       "      <td>If you are looking for the secret ingredient i...</td>\n",
       "      <td>2011-06-13</td>\n",
       "    </tr>\n",
       "    <tr>\n",
       "      <th>4</th>\n",
       "      <td>5.0</td>\n",
       "      <td>B006K2ZZ7K</td>\n",
       "      <td>A1UQRSCLF8GW1T</td>\n",
       "      <td>5.0</td>\n",
       "      <td>Great taffy at a great price.  There was a wid...</td>\n",
       "      <td>2012-10-21</td>\n",
       "    </tr>\n",
       "  </tbody>\n",
       "</table>\n",
       "</div>"
      ],
      "text/plain": [
       "    Id   ProductId          UserId  Score  \\\n",
       "0  1.0  B001E4KFG0  A3SGXH7AUHU8GW    5.0   \n",
       "1  2.0  B00813GRG4  A1D87F6ZCVE5NK    1.0   \n",
       "2  3.0  B000LQOCH0   ABXLMWJIXXAIN    4.0   \n",
       "3  4.0  B000UA0QIQ  A395BORC6FGVXV    2.0   \n",
       "4  5.0  B006K2ZZ7K  A1UQRSCLF8GW1T    5.0   \n",
       "\n",
       "                                                Text  review_dt  \n",
       "0  I have bought several of the Vitality canned d... 2011-04-27  \n",
       "1  Product arrived labeled as Jumbo Salted Peanut... 2012-09-07  \n",
       "2  This is a confection that has been around a fe... 2008-08-18  \n",
       "3  If you are looking for the secret ingredient i... 2011-06-13  \n",
       "4  Great taffy at a great price.  There was a wid... 2012-10-21  "
      ]
     },
     "execution_count": 11,
     "metadata": {},
     "output_type": "execute_result"
    }
   ],
   "source": [
    "df.head()"
   ]
  },
  {
   "cell_type": "code",
   "execution_count": 12,
   "id": "06c201df-af95-45cc-936d-8df97f85faf1",
   "metadata": {},
   "outputs": [
    {
     "data": {
      "text/plain": [
       "0"
      ]
     },
     "execution_count": 12,
     "metadata": {},
     "output_type": "execute_result"
    }
   ],
   "source": [
    "#check for duplicate values\n",
    "df.duplicated().sum()"
   ]
  },
  {
   "cell_type": "markdown",
   "id": "0c85af60-3eaa-4390-8355-d2d220c7d37e",
   "metadata": {},
   "source": [
    "**Note:** It shows there is no duplicate records in the dataset."
   ]
  },
  {
   "cell_type": "code",
   "execution_count": 13,
   "id": "4dbb8fdd-ee9f-429c-93bf-3bfd34200cb0",
   "metadata": {},
   "outputs": [],
   "source": [
    "# remove the html tags form the Text(Review)\n",
    "df['with_out_tags']=df['Text'].apply(lambda cw : remove_tags(cw))"
   ]
  },
  {
   "cell_type": "code",
   "execution_count": 14,
   "id": "7424b0e5-27bb-4d67-b90d-d38ff399404e",
   "metadata": {},
   "outputs": [
    {
     "data": {
      "text/plain": [
       "\"I tried this and I found it too salty.Plus I ate this fish sauce with some fish but I realized it was kind of redundant.I'm kidding, of course. This stuff is great!\""
      ]
     },
     "execution_count": 14,
     "metadata": {},
     "output_type": "execute_result"
    }
   ],
   "source": [
    "df['with_out_tags'][1010]"
   ]
  },
  {
   "cell_type": "code",
   "execution_count": 15,
   "id": "c3884dcb-7cae-4e24-8c0a-129f4b3d4576",
   "metadata": {},
   "outputs": [],
   "source": [
    "df.drop(columns=['Text'],inplace=True)"
   ]
  },
  {
   "cell_type": "code",
   "execution_count": 16,
   "id": "c9ef2995-a4a1-48db-8177-6c2abde24571",
   "metadata": {},
   "outputs": [],
   "source": [
    "#rename Score to Rating\n",
    "df.rename(columns={'Score':'Rating','with_out_tags':'Text'},inplace=True)"
   ]
  },
  {
   "cell_type": "code",
   "execution_count": 17,
   "id": "35f900b5-df8d-4a26-a1bf-09de2104846f",
   "metadata": {},
   "outputs": [
    {
     "data": {
      "image/png": "[encoded data removed]",
      "text/plain": [
       "<Figure size 640x480 with 1 Axes>"
      ]
     },
     "metadata": {},
     "output_type": "display_data"
    }
   ],
   "source": [
    "#score distribution\n",
    "plt.hist(df['Rating'])\n",
    "plt.title('Rating Distribution')\n",
    "plt.xlabel('Rating')\n",
    "plt.ylabel('Count')\n",
    "plt.show()"
   ]
  },
  {
   "cell_type": "markdown",
   "id": "3a8a8883-b236-46be-a90f-6d89ca35e886",
   "metadata": {},
   "source": [
    "# Using TextBlob"
   ]
  },
  {
   "cell_type": "code",
   "execution_count": 18,
   "id": "57563f44-7f25-4f45-9599-36d546735514",
   "metadata": {},
   "outputs": [
    {
     "name": "stdout",
     "output_type": "stream",
     "text": [
      "0.48333333333333334\n",
      "-0.12499999999999999\n"
     ]
    }
   ],
   "source": [
    "from textblob import TextBlob\n",
    "\n",
    "# test with example\n",
    "analysisPol = TextBlob(example_pos).polarity\n",
    "print(analysisPol)\n",
    "analysisPol2 = TextBlob(example_neg).polarity\n",
    "print(analysisPol2)"
   ]
  },
  {
   "cell_type": "code",
   "execution_count": 19,
   "id": "a39437c2-fe85-42e7-a5f7-baef59876ba3",
   "metadata": {},
   "outputs": [],
   "source": [
    "blob = {}\n",
    "# Run on the entire dataset\n",
    "for i, row in df.iterrows():\n",
    "        text = row['Text']\n",
    "        myid = row['Id']\n",
    "        t=TextBlob(text).polarity\n",
    "        blob[myid] =dict({'blob_score':t})\n"
   ]
  },
  {
   "cell_type": "code",
   "execution_count": 20,
   "id": "795cc20d-5718-4490-9e42-d69ba0e37356",
   "metadata": {},
   "outputs": [
    {
     "data": {
      "text/html": [
       "<div>\n",
       "<style scoped>\n",
       "    .dataframe tbody tr th:only-of-type {\n",
       "        vertical-align: middle;\n",
       "    }\n",
       "\n",
       "    .dataframe tbody tr th {\n",
       "        vertical-align: top;\n",
       "    }\n",
       "\n",
       "    .dataframe thead th {\n",
       "        text-align: right;\n",
       "    }\n",
       "</style>\n",
       "<table border=\"1\" class=\"dataframe\">\n",
       "  <thead>\n",
       "    <tr style=\"text-align: right;\">\n",
       "      <th></th>\n",
       "      <th>blob_score</th>\n",
       "    </tr>\n",
       "  </thead>\n",
       "  <tbody>\n",
       "    <tr>\n",
       "      <th>1.0</th>\n",
       "      <td>0.450000</td>\n",
       "    </tr>\n",
       "    <tr>\n",
       "      <th>2.0</th>\n",
       "      <td>-0.033333</td>\n",
       "    </tr>\n",
       "    <tr>\n",
       "      <th>3.0</th>\n",
       "      <td>0.133571</td>\n",
       "    </tr>\n",
       "    <tr>\n",
       "      <th>4.0</th>\n",
       "      <td>0.166667</td>\n",
       "    </tr>\n",
       "    <tr>\n",
       "      <th>5.0</th>\n",
       "      <td>0.483333</td>\n",
       "    </tr>\n",
       "  </tbody>\n",
       "</table>\n",
       "</div>"
      ],
      "text/plain": [
       "     blob_score\n",
       "1.0    0.450000\n",
       "2.0   -0.033333\n",
       "3.0    0.133571\n",
       "4.0    0.166667\n",
       "5.0    0.483333"
      ]
     },
     "execution_count": 20,
     "metadata": {},
     "output_type": "execute_result"
    }
   ],
   "source": [
    "blob_df = pd.DataFrame(blob).T\n",
    "blob_df.head()\n"
   ]
  },
  {
   "cell_type": "code",
   "execution_count": 21,
   "id": "dc8f2710-c894-4a42-99cf-b199dce2e6ad",
   "metadata": {},
   "outputs": [
    {
     "data": {
      "text/html": [
       "<div>\n",
       "<style scoped>\n",
       "    .dataframe tbody tr th:only-of-type {\n",
       "        vertical-align: middle;\n",
       "    }\n",
       "\n",
       "    .dataframe tbody tr th {\n",
       "        vertical-align: top;\n",
       "    }\n",
       "\n",
       "    .dataframe thead th {\n",
       "        text-align: right;\n",
       "    }\n",
       "</style>\n",
       "<table border=\"1\" class=\"dataframe\">\n",
       "  <thead>\n",
       "    <tr style=\"text-align: right;\">\n",
       "      <th></th>\n",
       "      <th>blob_score</th>\n",
       "      <th>blob_sentiment</th>\n",
       "    </tr>\n",
       "  </thead>\n",
       "  <tbody>\n",
       "    <tr>\n",
       "      <th>1.0</th>\n",
       "      <td>0.450000</td>\n",
       "      <td>POSITIVE</td>\n",
       "    </tr>\n",
       "    <tr>\n",
       "      <th>2.0</th>\n",
       "      <td>-0.033333</td>\n",
       "      <td>NEGATIVE</td>\n",
       "    </tr>\n",
       "    <tr>\n",
       "      <th>3.0</th>\n",
       "      <td>0.133571</td>\n",
       "      <td>POSITIVE</td>\n",
       "    </tr>\n",
       "    <tr>\n",
       "      <th>4.0</th>\n",
       "      <td>0.166667</td>\n",
       "      <td>POSITIVE</td>\n",
       "    </tr>\n",
       "    <tr>\n",
       "      <th>5.0</th>\n",
       "      <td>0.483333</td>\n",
       "      <td>POSITIVE</td>\n",
       "    </tr>\n",
       "  </tbody>\n",
       "</table>\n",
       "</div>"
      ],
      "text/plain": [
       "     blob_score blob_sentiment\n",
       "1.0    0.450000       POSITIVE\n",
       "2.0   -0.033333       NEGATIVE\n",
       "3.0    0.133571       POSITIVE\n",
       "4.0    0.166667       POSITIVE\n",
       "5.0    0.483333       POSITIVE"
      ]
     },
     "execution_count": 21,
     "metadata": {},
     "output_type": "execute_result"
    }
   ],
   "source": [
    "\n",
    "blob_df['blob_sentiment']=blob_df['blob_score'].apply(lambda x: blob_senti(x))\n",
    "blob_df.head()"
   ]
  },
  {
   "cell_type": "markdown",
   "id": "6112420a-cabd-4bc8-9592-84b06357864c",
   "metadata": {},
   "source": [
    "# Using VADER"
   ]
  },
  {
   "cell_type": "code",
   "execution_count": 22,
   "id": "0cfc686a-b411-4338-bc60-07efd04d3d45",
   "metadata": {},
   "outputs": [],
   "source": [
    "from vaderSentiment.vaderSentiment import SentimentIntensityAnalyzer"
   ]
  },
  {
   "cell_type": "code",
   "execution_count": 23,
   "id": "b4367105-b943-4e05-bec9-cc457363df5b",
   "metadata": {},
   "outputs": [
    {
     "data": {
      "text/plain": [
       "{'neg': 0.0, 'neu': 0.599, 'pos': 0.401, 'compound': 0.9468}"
      ]
     },
     "execution_count": 23,
     "metadata": {},
     "output_type": "execute_result"
    }
   ],
   "source": [
    "sentiment=SentimentIntensityAnalyzer()\n",
    "#test on example\n",
    "sent_ex=sentiment.polarity_scores(example_pos)\n",
    "sent_ex"
   ]
  },
  {
   "cell_type": "code",
   "execution_count": 24,
   "id": "9af70191-6b4a-4430-83ee-798a05a4749c",
   "metadata": {},
   "outputs": [
    {
     "data": {
      "text/plain": [
       "{'neg': 0.21, 'neu': 0.79, 'pos': 0.0, 'compound': -0.5448}"
      ]
     },
     "execution_count": 24,
     "metadata": {},
     "output_type": "execute_result"
    }
   ],
   "source": [
    "sent_ex1=sentiment.polarity_scores(example_neg)\n",
    "sent_ex1"
   ]
  },
  {
   "cell_type": "code",
   "execution_count": 25,
   "id": "ce8e55c4-83c7-40a2-8594-4c0703f7c25b",
   "metadata": {},
   "outputs": [],
   "source": [
    "# Run the polarity score on the entire dataset\n",
    "res = {}\n",
    "for i, row in df.iterrows():\n",
    "        text = row['Text']\n",
    "        myid = row['Id']\n",
    "        res[myid] = sentiment.polarity_scores(text)\n",
    "    "
   ]
  },
  {
   "cell_type": "code",
   "execution_count": 26,
   "id": "e1ce99b2-a67f-4af4-972c-48cc1029df34",
   "metadata": {},
   "outputs": [
    {
     "data": {
      "text/html": [
       "<div>\n",
       "<style scoped>\n",
       "    .dataframe tbody tr th:only-of-type {\n",
       "        vertical-align: middle;\n",
       "    }\n",
       "\n",
       "    .dataframe tbody tr th {\n",
       "        vertical-align: top;\n",
       "    }\n",
       "\n",
       "    .dataframe thead th {\n",
       "        text-align: right;\n",
       "    }\n",
       "</style>\n",
       "<table border=\"1\" class=\"dataframe\">\n",
       "  <thead>\n",
       "    <tr style=\"text-align: right;\">\n",
       "      <th></th>\n",
       "      <th>neg</th>\n",
       "      <th>neu</th>\n",
       "      <th>pos</th>\n",
       "      <th>compound</th>\n",
       "    </tr>\n",
       "  </thead>\n",
       "  <tbody>\n",
       "    <tr>\n",
       "      <th>1.0</th>\n",
       "      <td>0.000</td>\n",
       "      <td>0.711</td>\n",
       "      <td>0.289</td>\n",
       "      <td>0.9441</td>\n",
       "    </tr>\n",
       "    <tr>\n",
       "      <th>2.0</th>\n",
       "      <td>0.138</td>\n",
       "      <td>0.862</td>\n",
       "      <td>0.000</td>\n",
       "      <td>-0.5664</td>\n",
       "    </tr>\n",
       "    <tr>\n",
       "      <th>3.0</th>\n",
       "      <td>0.085</td>\n",
       "      <td>0.771</td>\n",
       "      <td>0.144</td>\n",
       "      <td>0.8138</td>\n",
       "    </tr>\n",
       "    <tr>\n",
       "      <th>4.0</th>\n",
       "      <td>0.000</td>\n",
       "      <td>0.932</td>\n",
       "      <td>0.068</td>\n",
       "      <td>0.4404</td>\n",
       "    </tr>\n",
       "    <tr>\n",
       "      <th>5.0</th>\n",
       "      <td>0.000</td>\n",
       "      <td>0.599</td>\n",
       "      <td>0.401</td>\n",
       "      <td>0.9468</td>\n",
       "    </tr>\n",
       "  </tbody>\n",
       "</table>\n",
       "</div>"
      ],
      "text/plain": [
       "       neg    neu    pos  compound\n",
       "1.0  0.000  0.711  0.289    0.9441\n",
       "2.0  0.138  0.862  0.000   -0.5664\n",
       "3.0  0.085  0.771  0.144    0.8138\n",
       "4.0  0.000  0.932  0.068    0.4404\n",
       "5.0  0.000  0.599  0.401    0.9468"
      ]
     },
     "execution_count": 26,
     "metadata": {},
     "output_type": "execute_result"
    }
   ],
   "source": [
    "vaders_df = pd.DataFrame(res).T\n",
    "vaders_df.head()"
   ]
  },
  {
   "cell_type": "code",
   "execution_count": 27,
   "id": "fd114a10-6fe3-4dae-aa19-f1483dc46f17",
   "metadata": {},
   "outputs": [],
   "source": [
    "#keep only compound\n",
    "vaders_df.drop(columns=['neg','neu','pos'],inplace=True)"
   ]
  },
  {
   "cell_type": "code",
   "execution_count": 28,
   "id": "5b0ae471-9614-4b4c-9450-bcff0a5f17e8",
   "metadata": {},
   "outputs": [],
   "source": [
    "# create a categorical sentiment\n",
    "\n",
    "vaders_df['sentiment']=vaders_df['compound'].apply(lambda x: vader_senti(x))\n"
   ]
  },
  {
   "cell_type": "code",
   "execution_count": 29,
   "id": "cd2bc7e1-77d1-494e-9097-70bc9330e696",
   "metadata": {},
   "outputs": [
    {
     "data": {
      "text/plain": [
       "Index(['vader_score', 'vader_sentiment'], dtype='object')"
      ]
     },
     "execution_count": 29,
     "metadata": {},
     "output_type": "execute_result"
    }
   ],
   "source": [
    "#rename columns\n",
    "vaders_df.rename(columns={'compound':'vader_score',\n",
    "                       'sentiment':'vader_sentiment'\n",
    "                     },inplace=True)\n",
    "vaders_df.columns"
   ]
  },
  {
   "cell_type": "code",
   "execution_count": 30,
   "id": "60685c0b-5759-4898-9737-ca7a98c1994e",
   "metadata": {},
   "outputs": [
    {
     "data": {
      "text/html": [
       "<div>\n",
       "<style scoped>\n",
       "    .dataframe tbody tr th:only-of-type {\n",
       "        vertical-align: middle;\n",
       "    }\n",
       "\n",
       "    .dataframe tbody tr th {\n",
       "        vertical-align: top;\n",
       "    }\n",
       "\n",
       "    .dataframe thead th {\n",
       "        text-align: right;\n",
       "    }\n",
       "</style>\n",
       "<table border=\"1\" class=\"dataframe\">\n",
       "  <thead>\n",
       "    <tr style=\"text-align: right;\">\n",
       "      <th></th>\n",
       "      <th>vader_score</th>\n",
       "      <th>vader_sentiment</th>\n",
       "    </tr>\n",
       "  </thead>\n",
       "  <tbody>\n",
       "    <tr>\n",
       "      <th>1.0</th>\n",
       "      <td>0.9441</td>\n",
       "      <td>POSITIVE</td>\n",
       "    </tr>\n",
       "    <tr>\n",
       "      <th>2.0</th>\n",
       "      <td>-0.5664</td>\n",
       "      <td>NEGATIVE</td>\n",
       "    </tr>\n",
       "    <tr>\n",
       "      <th>3.0</th>\n",
       "      <td>0.8138</td>\n",
       "      <td>POSITIVE</td>\n",
       "    </tr>\n",
       "    <tr>\n",
       "      <th>4.0</th>\n",
       "      <td>0.4404</td>\n",
       "      <td>POSITIVE</td>\n",
       "    </tr>\n",
       "    <tr>\n",
       "      <th>5.0</th>\n",
       "      <td>0.9468</td>\n",
       "      <td>POSITIVE</td>\n",
       "    </tr>\n",
       "  </tbody>\n",
       "</table>\n",
       "</div>"
      ],
      "text/plain": [
       "     vader_score vader_sentiment\n",
       "1.0       0.9441        POSITIVE\n",
       "2.0      -0.5664        NEGATIVE\n",
       "3.0       0.8138        POSITIVE\n",
       "4.0       0.4404        POSITIVE\n",
       "5.0       0.9468        POSITIVE"
      ]
     },
     "execution_count": 30,
     "metadata": {},
     "output_type": "execute_result"
    }
   ],
   "source": [
    "vaders_df.head()"
   ]
  },
  {
   "cell_type": "markdown",
   "id": "97523594-1e34-4ca1-ab0b-cc92f8a852c0",
   "metadata": {},
   "source": [
    "# Transformer Pipeline"
   ]
  },
  {
   "cell_type": "code",
   "execution_count": 31,
   "id": "0f4f5b55-4211-471b-9391-afeb6e2ac6be",
   "metadata": {},
   "outputs": [
    {
     "name": "stderr",
     "output_type": "stream",
     "text": [
      "No model was supplied, defaulted to distilbert/distilbert-base-uncased-finetuned-sst-2-english and revision af0f99b (https://huggingface.co/distilbert/distilbert-base-uncased-finetuned-sst-2-english).\n",
      "Using a pipeline without specifying a model name and revision in production is not recommended.\n",
      "All PyTorch model weights were used when initializing TFDistilBertForSequenceClassification.\n",
      "\n",
      "All the weights of TFDistilBertForSequenceClassification were initialized from the PyTorch model.\n",
      "If your task is similar to the task the model of the checkpoint was trained on, you can already use TFDistilBertForSequenceClassification for predictions without further training.\n"
     ]
    },
    {
     "data": {
      "text/plain": [
       "[{'label': 'POSITIVE', 'score': 0.9987082481384277},\n",
       " {'label': 'NEGATIVE', 'score': 0.9994776844978333}]"
      ]
     },
     "execution_count": 31,
     "metadata": {},
     "output_type": "execute_result"
    }
   ],
   "source": [
    "from transformers import pipeline\n",
    "sentiment_pipeline = pipeline(\"sentiment-analysis\",padding=True, truncation=True)\n",
    "# Teset pipeline\n",
    "data = [example_pos, example_neg]\n",
    "sentiment_pipeline(data)"
   ]
  },
  {
   "cell_type": "code",
   "execution_count": 32,
   "id": "3de90a60-ebf9-406d-8e4c-8bfd7db08579",
   "metadata": {},
   "outputs": [],
   "source": [
    "# Run the sentiment_pipeline on the entire dataset\n",
    "res_pipe=sentiment_pipeline(list(df['Text']))\n"
   ]
  },
  {
   "cell_type": "code",
   "execution_count": 33,
   "id": "26607a35-00bb-46f5-b8f0-1f434c6ca744",
   "metadata": {},
   "outputs": [
    {
     "data": {
      "text/html": [
       "<div>\n",
       "<style scoped>\n",
       "    .dataframe tbody tr th:only-of-type {\n",
       "        vertical-align: middle;\n",
       "    }\n",
       "\n",
       "    .dataframe tbody tr th {\n",
       "        vertical-align: top;\n",
       "    }\n",
       "\n",
       "    .dataframe thead th {\n",
       "        text-align: right;\n",
       "    }\n",
       "</style>\n",
       "<table border=\"1\" class=\"dataframe\">\n",
       "  <thead>\n",
       "    <tr style=\"text-align: right;\">\n",
       "      <th></th>\n",
       "      <th>label</th>\n",
       "      <th>score</th>\n",
       "    </tr>\n",
       "  </thead>\n",
       "  <tbody>\n",
       "    <tr>\n",
       "      <th>0</th>\n",
       "      <td>POSITIVE</td>\n",
       "      <td>0.998385</td>\n",
       "    </tr>\n",
       "    <tr>\n",
       "      <th>1</th>\n",
       "      <td>NEGATIVE</td>\n",
       "      <td>0.999525</td>\n",
       "    </tr>\n",
       "    <tr>\n",
       "      <th>2</th>\n",
       "      <td>POSITIVE</td>\n",
       "      <td>0.999765</td>\n",
       "    </tr>\n",
       "    <tr>\n",
       "      <th>3</th>\n",
       "      <td>POSITIVE</td>\n",
       "      <td>0.999153</td>\n",
       "    </tr>\n",
       "    <tr>\n",
       "      <th>4</th>\n",
       "      <td>POSITIVE</td>\n",
       "      <td>0.998708</td>\n",
       "    </tr>\n",
       "  </tbody>\n",
       "</table>\n",
       "</div>"
      ],
      "text/plain": [
       "      label     score\n",
       "0  POSITIVE  0.998385\n",
       "1  NEGATIVE  0.999525\n",
       "2  POSITIVE  0.999765\n",
       "3  POSITIVE  0.999153\n",
       "4  POSITIVE  0.998708"
      ]
     },
     "execution_count": 33,
     "metadata": {},
     "output_type": "execute_result"
    }
   ],
   "source": [
    "pipe_df = pd.DataFrame(res_pipe)\n",
    "pipe_df.head()"
   ]
  },
  {
   "cell_type": "code",
   "execution_count": 34,
   "id": "1355139a-c4a8-4b42-a05e-0f3bc4871bfa",
   "metadata": {},
   "outputs": [
    {
     "data": {
      "text/html": [
       "<div>\n",
       "<style scoped>\n",
       "    .dataframe tbody tr th:only-of-type {\n",
       "        vertical-align: middle;\n",
       "    }\n",
       "\n",
       "    .dataframe tbody tr th {\n",
       "        vertical-align: top;\n",
       "    }\n",
       "\n",
       "    .dataframe thead th {\n",
       "        text-align: right;\n",
       "    }\n",
       "</style>\n",
       "<table border=\"1\" class=\"dataframe\">\n",
       "  <thead>\n",
       "    <tr style=\"text-align: right;\">\n",
       "      <th></th>\n",
       "      <th>label</th>\n",
       "      <th>score</th>\n",
       "    </tr>\n",
       "  </thead>\n",
       "  <tbody>\n",
       "    <tr>\n",
       "      <th>1.0</th>\n",
       "      <td>POSITIVE</td>\n",
       "      <td>0.998385</td>\n",
       "    </tr>\n",
       "    <tr>\n",
       "      <th>2.0</th>\n",
       "      <td>NEGATIVE</td>\n",
       "      <td>0.999525</td>\n",
       "    </tr>\n",
       "    <tr>\n",
       "      <th>3.0</th>\n",
       "      <td>POSITIVE</td>\n",
       "      <td>0.999765</td>\n",
       "    </tr>\n",
       "    <tr>\n",
       "      <th>4.0</th>\n",
       "      <td>POSITIVE</td>\n",
       "      <td>0.999153</td>\n",
       "    </tr>\n",
       "    <tr>\n",
       "      <th>5.0</th>\n",
       "      <td>POSITIVE</td>\n",
       "      <td>0.998708</td>\n",
       "    </tr>\n",
       "  </tbody>\n",
       "</table>\n",
       "</div>"
      ],
      "text/plain": [
       "        label     score\n",
       "1.0  POSITIVE  0.998385\n",
       "2.0  NEGATIVE  0.999525\n",
       "3.0  POSITIVE  0.999765\n",
       "4.0  POSITIVE  0.999153\n",
       "5.0  POSITIVE  0.998708"
      ]
     },
     "execution_count": 34,
     "metadata": {},
     "output_type": "execute_result"
    }
   ],
   "source": [
    "pipe_df.index = (pipe_df.index + 1).astype('float') #as index starts from 0 we need it from 1.0\n",
    "pipe_df.head()"
   ]
  },
  {
   "cell_type": "code",
   "execution_count": 35,
   "id": "808112aa-55f4-4e12-a18a-40a7dba2866c",
   "metadata": {},
   "outputs": [],
   "source": [
    "#change the score sign according to the sentiment\n",
    "pipe_df['pipe_score'] = np.where((pipe_df['label'] == 'NEGATIVE'), ((-1)*(pipe_df['score'])), pipe_df['score'])"
   ]
  },
  {
   "cell_type": "code",
   "execution_count": 36,
   "id": "5a4b4a3b-6647-4807-a7dc-5681de7eb078",
   "metadata": {},
   "outputs": [
    {
     "data": {
      "text/html": [
       "<div>\n",
       "<style scoped>\n",
       "    .dataframe tbody tr th:only-of-type {\n",
       "        vertical-align: middle;\n",
       "    }\n",
       "\n",
       "    .dataframe tbody tr th {\n",
       "        vertical-align: top;\n",
       "    }\n",
       "\n",
       "    .dataframe thead th {\n",
       "        text-align: right;\n",
       "    }\n",
       "</style>\n",
       "<table border=\"1\" class=\"dataframe\">\n",
       "  <thead>\n",
       "    <tr style=\"text-align: right;\">\n",
       "      <th></th>\n",
       "      <th>label</th>\n",
       "      <th>score</th>\n",
       "      <th>pipe_score</th>\n",
       "    </tr>\n",
       "  </thead>\n",
       "  <tbody>\n",
       "    <tr>\n",
       "      <th>1.0</th>\n",
       "      <td>POSITIVE</td>\n",
       "      <td>0.998385</td>\n",
       "      <td>0.998385</td>\n",
       "    </tr>\n",
       "    <tr>\n",
       "      <th>2.0</th>\n",
       "      <td>NEGATIVE</td>\n",
       "      <td>0.999525</td>\n",
       "      <td>-0.999525</td>\n",
       "    </tr>\n",
       "    <tr>\n",
       "      <th>3.0</th>\n",
       "      <td>POSITIVE</td>\n",
       "      <td>0.999765</td>\n",
       "      <td>0.999765</td>\n",
       "    </tr>\n",
       "    <tr>\n",
       "      <th>4.0</th>\n",
       "      <td>POSITIVE</td>\n",
       "      <td>0.999153</td>\n",
       "      <td>0.999153</td>\n",
       "    </tr>\n",
       "    <tr>\n",
       "      <th>5.0</th>\n",
       "      <td>POSITIVE</td>\n",
       "      <td>0.998708</td>\n",
       "      <td>0.998708</td>\n",
       "    </tr>\n",
       "  </tbody>\n",
       "</table>\n",
       "</div>"
      ],
      "text/plain": [
       "        label     score  pipe_score\n",
       "1.0  POSITIVE  0.998385    0.998385\n",
       "2.0  NEGATIVE  0.999525   -0.999525\n",
       "3.0  POSITIVE  0.999765    0.999765\n",
       "4.0  POSITIVE  0.999153    0.999153\n",
       "5.0  POSITIVE  0.998708    0.998708"
      ]
     },
     "execution_count": 36,
     "metadata": {},
     "output_type": "execute_result"
    }
   ],
   "source": [
    "pipe_df.head()"
   ]
  },
  {
   "cell_type": "code",
   "execution_count": 37,
   "id": "2029c2cd-bb6b-491d-8c5a-623294f38d74",
   "metadata": {},
   "outputs": [
    {
     "data": {
      "text/plain": [
       "Index(['pipe_sentiment', 'pipe_abs_score', 'pipe_score'], dtype='object')"
      ]
     },
     "execution_count": 37,
     "metadata": {},
     "output_type": "execute_result"
    }
   ],
   "source": [
    "#rename columns\n",
    "pipe_df.rename(columns={'score':'pipe_abs_score',\n",
    "                       'label':'pipe_sentiment'\n",
    "                     },inplace=True)\n",
    "pipe_df.columns"
   ]
  },
  {
   "cell_type": "markdown",
   "id": "309ed9db-85d4-44d0-90c2-ff6b033bc910",
   "metadata": {},
   "source": [
    "# Merge sentiments with metadata"
   ]
  },
  {
   "cell_type": "code",
   "execution_count": 38,
   "id": "977639f2-7708-42bf-8e0c-9da0500f3951",
   "metadata": {},
   "outputs": [],
   "source": [
    "#Reset index for sentiment dataframes\n",
    "blob_df = blob_df.reset_index().rename(columns={'index': 'Id'}) #TextBlob\n",
    "vaders_df = vaders_df.reset_index().rename(columns={'index': 'Id'}) #VADER\n",
    "pipe_df = pipe_df.reset_index().rename(columns={'index': 'Id'}) #Pipeline"
   ]
  },
  {
   "cell_type": "code",
   "execution_count": 39,
   "id": "300ea380-3fec-429f-a2a6-34e13e7d3310",
   "metadata": {},
   "outputs": [
    {
     "data": {
      "text/html": [
       "<div>\n",
       "<style scoped>\n",
       "    .dataframe tbody tr th:only-of-type {\n",
       "        vertical-align: middle;\n",
       "    }\n",
       "\n",
       "    .dataframe tbody tr th {\n",
       "        vertical-align: top;\n",
       "    }\n",
       "\n",
       "    .dataframe thead th {\n",
       "        text-align: right;\n",
       "    }\n",
       "</style>\n",
       "<table border=\"1\" class=\"dataframe\">\n",
       "  <thead>\n",
       "    <tr style=\"text-align: right;\">\n",
       "      <th></th>\n",
       "      <th>Id</th>\n",
       "      <th>pipe_sentiment</th>\n",
       "      <th>pipe_abs_score</th>\n",
       "      <th>pipe_score</th>\n",
       "      <th>vader_score</th>\n",
       "      <th>vader_sentiment</th>\n",
       "      <th>blob_score</th>\n",
       "      <th>blob_sentiment</th>\n",
       "    </tr>\n",
       "  </thead>\n",
       "  <tbody>\n",
       "    <tr>\n",
       "      <th>0</th>\n",
       "      <td>1.0</td>\n",
       "      <td>POSITIVE</td>\n",
       "      <td>0.998385</td>\n",
       "      <td>0.998385</td>\n",
       "      <td>0.9441</td>\n",
       "      <td>POSITIVE</td>\n",
       "      <td>0.450000</td>\n",
       "      <td>POSITIVE</td>\n",
       "    </tr>\n",
       "    <tr>\n",
       "      <th>1</th>\n",
       "      <td>2.0</td>\n",
       "      <td>NEGATIVE</td>\n",
       "      <td>0.999525</td>\n",
       "      <td>-0.999525</td>\n",
       "      <td>-0.5664</td>\n",
       "      <td>NEGATIVE</td>\n",
       "      <td>-0.033333</td>\n",
       "      <td>NEGATIVE</td>\n",
       "    </tr>\n",
       "    <tr>\n",
       "      <th>2</th>\n",
       "      <td>3.0</td>\n",
       "      <td>POSITIVE</td>\n",
       "      <td>0.999765</td>\n",
       "      <td>0.999765</td>\n",
       "      <td>0.8138</td>\n",
       "      <td>POSITIVE</td>\n",
       "      <td>0.133571</td>\n",
       "      <td>POSITIVE</td>\n",
       "    </tr>\n",
       "    <tr>\n",
       "      <th>3</th>\n",
       "      <td>4.0</td>\n",
       "      <td>POSITIVE</td>\n",
       "      <td>0.999153</td>\n",
       "      <td>0.999153</td>\n",
       "      <td>0.4404</td>\n",
       "      <td>POSITIVE</td>\n",
       "      <td>0.166667</td>\n",
       "      <td>POSITIVE</td>\n",
       "    </tr>\n",
       "    <tr>\n",
       "      <th>4</th>\n",
       "      <td>5.0</td>\n",
       "      <td>POSITIVE</td>\n",
       "      <td>0.998708</td>\n",
       "      <td>0.998708</td>\n",
       "      <td>0.9468</td>\n",
       "      <td>POSITIVE</td>\n",
       "      <td>0.483333</td>\n",
       "      <td>POSITIVE</td>\n",
       "    </tr>\n",
       "  </tbody>\n",
       "</table>\n",
       "</div>"
      ],
      "text/plain": [
       "    Id pipe_sentiment  pipe_abs_score  pipe_score  vader_score  \\\n",
       "0  1.0       POSITIVE        0.998385    0.998385       0.9441   \n",
       "1  2.0       NEGATIVE        0.999525   -0.999525      -0.5664   \n",
       "2  3.0       POSITIVE        0.999765    0.999765       0.8138   \n",
       "3  4.0       POSITIVE        0.999153    0.999153       0.4404   \n",
       "4  5.0       POSITIVE        0.998708    0.998708       0.9468   \n",
       "\n",
       "  vader_sentiment  blob_score blob_sentiment  \n",
       "0        POSITIVE    0.450000       POSITIVE  \n",
       "1        NEGATIVE   -0.033333       NEGATIVE  \n",
       "2        POSITIVE    0.133571       POSITIVE  \n",
       "3        POSITIVE    0.166667       POSITIVE  \n",
       "4        POSITIVE    0.483333       POSITIVE  "
      ]
     },
     "execution_count": 39,
     "metadata": {},
     "output_type": "execute_result"
    }
   ],
   "source": [
    "#Join these dataframes\n",
    "vaders_blob_df = vaders_df.merge(blob_df, how='left')\n",
    "blob_vaders_pipe_df = pipe_df.merge(vaders_blob_df, how='left')\n",
    "blob_vaders_pipe_df.head()"
   ]
  },
  {
   "cell_type": "code",
   "execution_count": 40,
   "id": "37b821c1-2d6a-4fac-8b8c-db1b7864b553",
   "metadata": {},
   "outputs": [
    {
     "data": {
      "text/html": [
       "<div>\n",
       "<style scoped>\n",
       "    .dataframe tbody tr th:only-of-type {\n",
       "        vertical-align: middle;\n",
       "    }\n",
       "\n",
       "    .dataframe tbody tr th {\n",
       "        vertical-align: top;\n",
       "    }\n",
       "\n",
       "    .dataframe thead th {\n",
       "        text-align: right;\n",
       "    }\n",
       "</style>\n",
       "<table border=\"1\" class=\"dataframe\">\n",
       "  <thead>\n",
       "    <tr style=\"text-align: right;\">\n",
       "      <th></th>\n",
       "      <th>Id</th>\n",
       "      <th>pipe_sentiment</th>\n",
       "      <th>pipe_abs_score</th>\n",
       "      <th>pipe_score</th>\n",
       "      <th>vader_score</th>\n",
       "      <th>vader_sentiment</th>\n",
       "      <th>blob_score</th>\n",
       "      <th>blob_sentiment</th>\n",
       "      <th>ProductId</th>\n",
       "      <th>UserId</th>\n",
       "      <th>Rating</th>\n",
       "      <th>review_dt</th>\n",
       "      <th>Text</th>\n",
       "    </tr>\n",
       "  </thead>\n",
       "  <tbody>\n",
       "    <tr>\n",
       "      <th>0</th>\n",
       "      <td>1.0</td>\n",
       "      <td>POSITIVE</td>\n",
       "      <td>0.998385</td>\n",
       "      <td>0.998385</td>\n",
       "      <td>0.9441</td>\n",
       "      <td>POSITIVE</td>\n",
       "      <td>0.450000</td>\n",
       "      <td>POSITIVE</td>\n",
       "      <td>B001E4KFG0</td>\n",
       "      <td>A3SGXH7AUHU8GW</td>\n",
       "      <td>5.0</td>\n",
       "      <td>2011-04-27</td>\n",
       "      <td>I have bought several of the Vitality canned d...</td>\n",
       "    </tr>\n",
       "    <tr>\n",
       "      <th>1</th>\n",
       "      <td>2.0</td>\n",
       "      <td>NEGATIVE</td>\n",
       "      <td>0.999525</td>\n",
       "      <td>-0.999525</td>\n",
       "      <td>-0.5664</td>\n",
       "      <td>NEGATIVE</td>\n",
       "      <td>-0.033333</td>\n",
       "      <td>NEGATIVE</td>\n",
       "      <td>B00813GRG4</td>\n",
       "      <td>A1D87F6ZCVE5NK</td>\n",
       "      <td>1.0</td>\n",
       "      <td>2012-09-07</td>\n",
       "      <td>Product arrived labeled as Jumbo Salted Peanut...</td>\n",
       "    </tr>\n",
       "    <tr>\n",
       "      <th>2</th>\n",
       "      <td>3.0</td>\n",
       "      <td>POSITIVE</td>\n",
       "      <td>0.999765</td>\n",
       "      <td>0.999765</td>\n",
       "      <td>0.8138</td>\n",
       "      <td>POSITIVE</td>\n",
       "      <td>0.133571</td>\n",
       "      <td>POSITIVE</td>\n",
       "      <td>B000LQOCH0</td>\n",
       "      <td>ABXLMWJIXXAIN</td>\n",
       "      <td>4.0</td>\n",
       "      <td>2008-08-18</td>\n",
       "      <td>This is a confection that has been around a fe...</td>\n",
       "    </tr>\n",
       "    <tr>\n",
       "      <th>3</th>\n",
       "      <td>4.0</td>\n",
       "      <td>POSITIVE</td>\n",
       "      <td>0.999153</td>\n",
       "      <td>0.999153</td>\n",
       "      <td>0.4404</td>\n",
       "      <td>POSITIVE</td>\n",
       "      <td>0.166667</td>\n",
       "      <td>POSITIVE</td>\n",
       "      <td>B000UA0QIQ</td>\n",
       "      <td>A395BORC6FGVXV</td>\n",
       "      <td>2.0</td>\n",
       "      <td>2011-06-13</td>\n",
       "      <td>If you are looking for the secret ingredient i...</td>\n",
       "    </tr>\n",
       "    <tr>\n",
       "      <th>4</th>\n",
       "      <td>5.0</td>\n",
       "      <td>POSITIVE</td>\n",
       "      <td>0.998708</td>\n",
       "      <td>0.998708</td>\n",
       "      <td>0.9468</td>\n",
       "      <td>POSITIVE</td>\n",
       "      <td>0.483333</td>\n",
       "      <td>POSITIVE</td>\n",
       "      <td>B006K2ZZ7K</td>\n",
       "      <td>A1UQRSCLF8GW1T</td>\n",
       "      <td>5.0</td>\n",
       "      <td>2012-10-21</td>\n",
       "      <td>Great taffy at a great price.  There was a wid...</td>\n",
       "    </tr>\n",
       "  </tbody>\n",
       "</table>\n",
       "</div>"
      ],
      "text/plain": [
       "    Id pipe_sentiment  pipe_abs_score  pipe_score  vader_score  \\\n",
       "0  1.0       POSITIVE        0.998385    0.998385       0.9441   \n",
       "1  2.0       NEGATIVE        0.999525   -0.999525      -0.5664   \n",
       "2  3.0       POSITIVE        0.999765    0.999765       0.8138   \n",
       "3  4.0       POSITIVE        0.999153    0.999153       0.4404   \n",
       "4  5.0       POSITIVE        0.998708    0.998708       0.9468   \n",
       "\n",
       "  vader_sentiment  blob_score blob_sentiment   ProductId          UserId  \\\n",
       "0        POSITIVE    0.450000       POSITIVE  B001E4KFG0  A3SGXH7AUHU8GW   \n",
       "1        NEGATIVE   -0.033333       NEGATIVE  B00813GRG4  A1D87F6ZCVE5NK   \n",
       "2        POSITIVE    0.133571       POSITIVE  B000LQOCH0   ABXLMWJIXXAIN   \n",
       "3        POSITIVE    0.166667       POSITIVE  B000UA0QIQ  A395BORC6FGVXV   \n",
       "4        POSITIVE    0.483333       POSITIVE  B006K2ZZ7K  A1UQRSCLF8GW1T   \n",
       "\n",
       "   Rating  review_dt                                               Text  \n",
       "0     5.0 2011-04-27  I have bought several of the Vitality canned d...  \n",
       "1     1.0 2012-09-07  Product arrived labeled as Jumbo Salted Peanut...  \n",
       "2     4.0 2008-08-18  This is a confection that has been around a fe...  \n",
       "3     2.0 2011-06-13  If you are looking for the secret ingredient i...  \n",
       "4     5.0 2012-10-21  Great taffy at a great price.  There was a wid...  "
      ]
     },
     "execution_count": 40,
     "metadata": {},
     "output_type": "execute_result"
    }
   ],
   "source": [
    "#merge this dataframe with dataset\n",
    "result_df=blob_vaders_pipe_df.merge(df,how='left')\n",
    "result_df.head()"
   ]
  },
  {
   "cell_type": "code",
   "execution_count": 41,
   "id": "4ddee009-70d9-4d9c-bf6d-b394f6ac5008",
   "metadata": {},
   "outputs": [],
   "source": [
    "# save the sentiment output\n",
    "result_df.to_csv('../output/sentiment_result.csv', index=False)"
   ]
  },
  {
   "cell_type": "markdown",
   "id": "a2897204-3e7e-45e0-a8d0-e5228e3c3866",
   "metadata": {},
   "source": [
    "# Model Comparision"
   ]
  },
  {
   "cell_type": "code",
   "execution_count": 42,
   "id": "ae0ed8bb-19a0-4ca7-8fa4-f2351e4a06fc",
   "metadata": {},
   "outputs": [],
   "source": [
    "#result_df=pd.read_csv('../output/sentiment_result.csv')"
   ]
  },
  {
   "cell_type": "code",
   "execution_count": 43,
   "id": "137d6419-6117-489d-bfbf-276f0c2e720a",
   "metadata": {},
   "outputs": [
    {
     "data": {
      "image/png": "[encoded data removed]",
      "text/plain": [
       "<Figure size 1200x300 with 3 Axes>"
      ]
     },
     "metadata": {},
     "output_type": "display_data"
    }
   ],
   "source": [
    "fig, axs = plt.subplots(1, 3, figsize=(12, 3))\n",
    "sns.barplot(data=result_df, x='Rating', y='pipe_score', ax=axs[0])\n",
    "sns.barplot(data=result_df, x='Rating', y='vader_score', ax=axs[1])\n",
    "sns.barplot(data=result_df, x='Rating', y='blob_score', ax=axs[2])\n",
    "axs[0].set_title('Pipe Score')\n",
    "axs[1].set_title('Vader Score')\n",
    "axs[2].set_title('Blob Score')\n",
    "plt.tight_layout()\n",
    "plt.show()"
   ]
  },
  {
   "cell_type": "markdown",
   "id": "d5917e5d-4ce9-4403-b8dd-a00a43c4e139",
   "metadata": {},
   "source": [
    "**Calculate R2-Score**\n",
    "- But before it we have to rescale the Rating column"
   ]
  },
  {
   "cell_type": "code",
   "execution_count": 44,
   "id": "c75aa210-2d6e-4334-9ff5-df557e4a33a9",
   "metadata": {},
   "outputs": [],
   "source": [
    "result_df['Rating_scaled']=result_df['Rating'].apply(lambda x: ((x-1)/2)-1 )"
   ]
  },
  {
   "cell_type": "code",
   "execution_count": 45,
   "id": "5c4f01ff-a999-4fc3-ac2b-9d5f629e5a2e",
   "metadata": {},
   "outputs": [
    {
     "data": {
      "image/png": "[encoded data removed]",
      "text/plain": [
       "<Figure size 640x480 with 1 Axes>"
      ]
     },
     "metadata": {},
     "output_type": "display_data"
    }
   ],
   "source": [
    "#Plot Rating\n",
    "ax = sns.scatterplot(data=result_df, x='Rating', y='Rating_scaled')\n",
    "ax.set_title('Relation between Rating and Rating_scaled')\n",
    "plt.show()"
   ]
  },
  {
   "cell_type": "code",
   "execution_count": 46,
   "id": "0e1cea58-64fe-4c8b-ba9c-b8737a95b32b",
   "metadata": {},
   "outputs": [
    {
     "data": {
      "image/png": "[encoded data removed]",
      "text/plain": [
       "<Figure size 1200x300 with 3 Axes>"
      ]
     },
     "metadata": {},
     "output_type": "display_data"
    }
   ],
   "source": [
    "#plot scores with scaled rating\n",
    "fig, axs = plt.subplots(1, 3, figsize=(12, 3))\n",
    "sns.barplot(data=result_df, x='Rating_scaled', y='pipe_score', ax=axs[0])\n",
    "sns.barplot(data=result_df, x='Rating_scaled', y='vader_score', ax=axs[1])\n",
    "sns.barplot(data=result_df, x='Rating_scaled', y='blob_score', ax=axs[2])\n",
    "axs[0].set_title('Pipe Score')\n",
    "axs[1].set_title('Vader Score')\n",
    "axs[2].set_title('Blob Score')\n",
    "plt.tight_layout()\n",
    "plt.show()"
   ]
  },
  {
   "cell_type": "code",
   "execution_count": 47,
   "id": "cd2393ae-4b4d-4e22-a295-57bb405def30",
   "metadata": {},
   "outputs": [],
   "source": [
    "from sklearn.metrics import r2_score"
   ]
  },
  {
   "cell_type": "code",
   "execution_count": 48,
   "id": "4e895a62-c271-47b2-bb32-80a416f16741",
   "metadata": {},
   "outputs": [
    {
     "data": {
      "text/plain": [
       "-0.2246309530012809"
      ]
     },
     "execution_count": 48,
     "metadata": {},
     "output_type": "execute_result"
    }
   ],
   "source": [
    "r2_score(result_df['Rating_scaled'], result_df['pipe_score'])"
   ]
  },
  {
   "cell_type": "code",
   "execution_count": 49,
   "id": "1f17078e-c3b1-43d1-8977-ca6b4a044431",
   "metadata": {},
   "outputs": [
    {
     "data": {
      "text/plain": [
       "0.2613213097924604"
      ]
     },
     "execution_count": 49,
     "metadata": {},
     "output_type": "execute_result"
    }
   ],
   "source": [
    "r2_score(result_df['Rating_scaled'], result_df['vader_score'])"
   ]
  },
  {
   "cell_type": "code",
   "execution_count": 50,
   "id": "b3bbf032-647b-4e18-9689-50d6e3dc1314",
   "metadata": {},
   "outputs": [
    {
     "data": {
      "text/plain": [
       "-0.08506241083505217"
      ]
     },
     "execution_count": 50,
     "metadata": {},
     "output_type": "execute_result"
    }
   ],
   "source": [
    "r2_score(result_df['Rating_scaled'], result_df['blob_score'])"
   ]
  },
  {
   "cell_type": "markdown",
   "id": "d8261807-25fe-4482-8646-3fbca9661fbf",
   "metadata": {},
   "source": [
    "**Calculate Standard Deviation**"
   ]
  },
  {
   "cell_type": "code",
   "execution_count": 51,
   "id": "66945257-3f8a-4221-b52a-91a18163a1e0",
   "metadata": {},
   "outputs": [],
   "source": [
    "#calculate standard deviation of 'pipe_score','vader_score' and 'blob_score' columns\n",
    "result_df['std_dev']=result_df[['pipe_score','vader_score','blob_score']].std(axis = 1)"
   ]
  },
  {
   "cell_type": "code",
   "execution_count": 52,
   "id": "905e48bd-bf7a-414d-b13c-81c8dc502743",
   "metadata": {},
   "outputs": [
    {
     "data": {
      "text/plain": [
       "0       0.302161\n",
       "1       0.483957\n",
       "2       0.455994\n",
       "3       0.424297\n",
       "4       0.283757\n",
       "          ...   \n",
       "1995    0.444111\n",
       "1996    0.408074\n",
       "1997    0.966735\n",
       "1998    0.852953\n",
       "1999    0.060801\n",
       "Name: std_dev, Length: 2000, dtype: float64"
      ]
     },
     "execution_count": 52,
     "metadata": {},
     "output_type": "execute_result"
    }
   ],
   "source": [
    "result_df['std_dev']"
   ]
  },
  {
   "cell_type": "code",
   "execution_count": 53,
   "id": "ee6be03d-a217-4027-83e4-01897fb6e247",
   "metadata": {},
   "outputs": [],
   "source": [
    "# save the comparison dataframe as output\n",
    "result_df.to_csv('../output/sentiment_result_comparison.csv', index=False)"
   ]
  },
  {
   "cell_type": "code",
   "execution_count": 54,
   "id": "b43227a5-1a93-47e0-9318-3c634f27a305",
   "metadata": {},
   "outputs": [],
   "source": [
    "#result_df=pd.read_csv('../output/sentiment_result_comparison.csv')"
   ]
  },
  {
   "cell_type": "markdown",
   "id": "74059c6c-91e8-473e-ac90-648761e2014d",
   "metadata": {},
   "source": [
    "**Ground True Values**"
   ]
  },
  {
   "cell_type": "code",
   "execution_count": 55,
   "id": "68b7af30-14c7-4f32-87e5-dc4ebd8a4abf",
   "metadata": {},
   "outputs": [],
   "source": [
    "result_subset=result_df.sort_values(by='std_dev',ascending=False).head(10)"
   ]
  },
  {
   "cell_type": "code",
   "execution_count": 56,
   "id": "e2ce92a8-b306-4e02-a79e-1f1ea02990e0",
   "metadata": {},
   "outputs": [
    {
     "data": {
      "text/html": [
       "<div>\n",
       "<style scoped>\n",
       "    .dataframe tbody tr th:only-of-type {\n",
       "        vertical-align: middle;\n",
       "    }\n",
       "\n",
       "    .dataframe tbody tr th {\n",
       "        vertical-align: top;\n",
       "    }\n",
       "\n",
       "    .dataframe thead th {\n",
       "        text-align: right;\n",
       "    }\n",
       "</style>\n",
       "<table border=\"1\" class=\"dataframe\">\n",
       "  <thead>\n",
       "    <tr style=\"text-align: right;\">\n",
       "      <th></th>\n",
       "      <th>Id</th>\n",
       "      <th>pipe_sentiment</th>\n",
       "      <th>vader_sentiment</th>\n",
       "      <th>blob_sentiment</th>\n",
       "      <th>Text</th>\n",
       "      <th>std_dev</th>\n",
       "    </tr>\n",
       "  </thead>\n",
       "  <tbody>\n",
       "    <tr>\n",
       "      <th>106</th>\n",
       "      <td>107.0</td>\n",
       "      <td>NEGATIVE</td>\n",
       "      <td>POSITIVE</td>\n",
       "      <td>POSITIVE</td>\n",
       "      <td>not what I was expecting in terms of the compa...</td>\n",
       "      <td>1.052842</td>\n",
       "    </tr>\n",
       "    <tr>\n",
       "      <th>1115</th>\n",
       "      <td>1116.0</td>\n",
       "      <td>NEGATIVE</td>\n",
       "      <td>POSITIVE</td>\n",
       "      <td>POSITIVE</td>\n",
       "      <td>Who doesn't like vegetables that are portable ...</td>\n",
       "      <td>1.040915</td>\n",
       "    </tr>\n",
       "    <tr>\n",
       "      <th>1010</th>\n",
       "      <td>1011.0</td>\n",
       "      <td>NEGATIVE</td>\n",
       "      <td>POSITIVE</td>\n",
       "      <td>POSITIVE</td>\n",
       "      <td>I tried this and I found it too salty.Plus I a...</td>\n",
       "      <td>1.039944</td>\n",
       "    </tr>\n",
       "    <tr>\n",
       "      <th>548</th>\n",
       "      <td>549.0</td>\n",
       "      <td>NEGATIVE</td>\n",
       "      <td>POSITIVE</td>\n",
       "      <td>POSITIVE</td>\n",
       "      <td>They are good but wish they were also baked. H...</td>\n",
       "      <td>1.037647</td>\n",
       "    </tr>\n",
       "    <tr>\n",
       "      <th>1818</th>\n",
       "      <td>1819.0</td>\n",
       "      <td>NEGATIVE</td>\n",
       "      <td>POSITIVE</td>\n",
       "      <td>POSITIVE</td>\n",
       "      <td>If you are trying to eat healthy (like me), bu...</td>\n",
       "      <td>1.021908</td>\n",
       "    </tr>\n",
       "    <tr>\n",
       "      <th>848</th>\n",
       "      <td>849.0</td>\n",
       "      <td>NEGATIVE</td>\n",
       "      <td>POSITIVE</td>\n",
       "      <td>POSITIVE</td>\n",
       "      <td>This baking soda works great for cooking or fo...</td>\n",
       "      <td>1.019657</td>\n",
       "    </tr>\n",
       "    <tr>\n",
       "      <th>1020</th>\n",
       "      <td>1021.0</td>\n",
       "      <td>NEGATIVE</td>\n",
       "      <td>POSITIVE</td>\n",
       "      <td>POSITIVE</td>\n",
       "      <td>You could find this in local supermarkets abou...</td>\n",
       "      <td>1.014021</td>\n",
       "    </tr>\n",
       "    <tr>\n",
       "      <th>1424</th>\n",
       "      <td>1425.0</td>\n",
       "      <td>NEGATIVE</td>\n",
       "      <td>POSITIVE</td>\n",
       "      <td>POSITIVE</td>\n",
       "      <td>Forget Starbucks, Peets or anything else. This...</td>\n",
       "      <td>1.012542</td>\n",
       "    </tr>\n",
       "    <tr>\n",
       "      <th>724</th>\n",
       "      <td>725.0</td>\n",
       "      <td>NEGATIVE</td>\n",
       "      <td>POSITIVE</td>\n",
       "      <td>POSITIVE</td>\n",
       "      <td>They did a very good job with shipping the ord...</td>\n",
       "      <td>1.008694</td>\n",
       "    </tr>\n",
       "    <tr>\n",
       "      <th>1281</th>\n",
       "      <td>1282.0</td>\n",
       "      <td>NEGATIVE</td>\n",
       "      <td>POSITIVE</td>\n",
       "      <td>POSITIVE</td>\n",
       "      <td>They're perfect training treats for my dogs.  ...</td>\n",
       "      <td>1.002877</td>\n",
       "    </tr>\n",
       "  </tbody>\n",
       "</table>\n",
       "</div>"
      ],
      "text/plain": [
       "          Id pipe_sentiment vader_sentiment blob_sentiment  \\\n",
       "106    107.0       NEGATIVE        POSITIVE       POSITIVE   \n",
       "1115  1116.0       NEGATIVE        POSITIVE       POSITIVE   \n",
       "1010  1011.0       NEGATIVE        POSITIVE       POSITIVE   \n",
       "548    549.0       NEGATIVE        POSITIVE       POSITIVE   \n",
       "1818  1819.0       NEGATIVE        POSITIVE       POSITIVE   \n",
       "848    849.0       NEGATIVE        POSITIVE       POSITIVE   \n",
       "1020  1021.0       NEGATIVE        POSITIVE       POSITIVE   \n",
       "1424  1425.0       NEGATIVE        POSITIVE       POSITIVE   \n",
       "724    725.0       NEGATIVE        POSITIVE       POSITIVE   \n",
       "1281  1282.0       NEGATIVE        POSITIVE       POSITIVE   \n",
       "\n",
       "                                                   Text   std_dev  \n",
       "106   not what I was expecting in terms of the compa...  1.052842  \n",
       "1115  Who doesn't like vegetables that are portable ...  1.040915  \n",
       "1010  I tried this and I found it too salty.Plus I a...  1.039944  \n",
       "548   They are good but wish they were also baked. H...  1.037647  \n",
       "1818  If you are trying to eat healthy (like me), bu...  1.021908  \n",
       "848   This baking soda works great for cooking or fo...  1.019657  \n",
       "1020  You could find this in local supermarkets abou...  1.014021  \n",
       "1424  Forget Starbucks, Peets or anything else. This...  1.012542  \n",
       "724   They did a very good job with shipping the ord...  1.008694  \n",
       "1281  They're perfect training treats for my dogs.  ...  1.002877  "
      ]
     },
     "execution_count": 56,
     "metadata": {},
     "output_type": "execute_result"
    }
   ],
   "source": [
    "result_subset[['Id','pipe_sentiment','vader_sentiment','blob_sentiment','Text','std_dev']]"
   ]
  },
  {
   "cell_type": "code",
   "execution_count": 57,
   "id": "7f0ea4a0-37d7-4bd8-8475-53392fc033f4",
   "metadata": {},
   "outputs": [
    {
     "name": "stdout",
     "output_type": "stream",
     "text": [
      "not what I was expecting in terms of the company's reputation for excellent home delivery products\n",
      "--------------------------------------------------\n",
      "Who doesn't like vegetables that are portable and at a great price?  Can't beat the convenience at about 4 cents per package!\n",
      "--------------------------------------------------\n",
      "I tried this and I found it too salty.Plus I ate this fish sauce with some fish but I realized it was kind of redundant.I'm kidding, of course. This stuff is great!\n",
      "--------------------------------------------------\n",
      "They are good but wish they were also baked. Have not found baked no salt potato chips anywhere. If there are any I wish someone would post.\n",
      "--------------------------------------------------\n",
      "If you are trying to eat healthy (like me), but love junk food (like me), these are the chips for you.  I have given up potato chips and french fries in my quest to eat guilt free, but a sandwich just needs something on the side. These chips add a great crunch as a side to a sandwich, and are a great snack for only 100 calories. They have no preservatives, no artificial flavors or colors, no cholesterol, 0 grams saturated fat, o grams trans fat, and are gluten free. Ingredients are potato flakes, potato starch, safflower oil and/or sunflower oil, rice flour, sea salt. They would be great to pack in a school lunch or for an after school snack. I ordered them on the subscription plan, a case a month, but might have to add an extra shipment. Everyone I have given a pack to loved them too and came back for more.\n",
      "--------------------------------------------------\n",
      "This baking soda works great for cooking or for health reasons.  I take it for acid indigestion and heart burn.  Just a 1 tsp in a half glass of water and it's gone.  I use it to make my body more alkaline, so it's great for changing your pH level in your body!\n",
      "--------------------------------------------------\n",
      "You could find this in local supermarkets about 4 months ago but now it nowhere to be found. Every time Kellogg's makes a great cereal, they quit making it soon after. This is the case with Just Right, THAT WAS THE BEST STUFF ON THE PLANET!\n",
      "--------------------------------------------------\n",
      "Forget Starbucks, Peets or anything else. This is the real deal. Like a good vintage wine, Britt coffee is truly gourmet with no after taste! I am really fussy about coffee, and generally avoid it, but after a trip to Costa Rica fell in love with the beverage again! You have to use a French Press to get the full favor so throw away those other coffee making contraptions, your beans deserve the best, your taste buds deserve the best too. No I don't work for Britt and did not get paid to say this!!!!!  But if you guys at Britt read this send me a sample or two!!\n",
      "--------------------------------------------------\n",
      "They did a very good job with shipping the order quickly....Nothing like Ace Hardware who took a week to ship\n",
      "--------------------------------------------------\n",
      "They're perfect training treats for my dogs.  They go to the place where they're stored and stand there until I get a handful for our play games.\n",
      "--------------------------------------------------\n"
     ]
    }
   ],
   "source": [
    "for i, row in result_subset.iterrows():\n",
    "    print(row['Text'])\n",
    "    print('--------------------------------------------------')"
   ]
  },
  {
   "cell_type": "markdown",
   "id": "dd8d0f70-f8e0-4731-a5fb-fc85aac272df",
   "metadata": {},
   "source": [
    "**Note:** we can see that the sentiment of all the reviews above is NEGATIVE so Transformer Pipeline failed to predict these.Lets manually give some label to these reviews and try another model."
   ]
  },
  {
   "cell_type": "code",
   "execution_count": 58,
   "id": "b9ae3ed5-f14a-45af-b1a2-07dae48a2514",
   "metadata": {},
   "outputs": [
    {
     "data": {
      "text/plain": [
       "\"not what I was expecting in terms of the company's reputation for excellent home delivery products\""
      ]
     },
     "execution_count": 58,
     "metadata": {},
     "output_type": "execute_result"
    }
   ],
   "source": [
    "result_subset['Text'][106]"
   ]
  },
  {
   "cell_type": "code",
   "execution_count": 59,
   "id": "010b2dbb-0734-455b-8196-b89609536b11",
   "metadata": {},
   "outputs": [],
   "source": [
    "result_subset.at[106, 'ground_true_label']='NEGATIVE'"
   ]
  },
  {
   "cell_type": "code",
   "execution_count": 60,
   "id": "599766d0-46c3-42cf-9d65-4f9caed4473a",
   "metadata": {},
   "outputs": [
    {
     "data": {
      "text/plain": [
       "\"Who doesn't like vegetables that are portable and at a great price?  Can't beat the convenience at about 4 cents per package!\""
      ]
     },
     "execution_count": 60,
     "metadata": {},
     "output_type": "execute_result"
    }
   ],
   "source": [
    "result_subset['Text'][1115]"
   ]
  },
  {
   "cell_type": "code",
   "execution_count": 61,
   "id": "a1267eca-88ba-4264-a2ae-26ea1b5d795c",
   "metadata": {},
   "outputs": [],
   "source": [
    "result_subset.at[1115, 'ground_true_label']='POSITIVE'"
   ]
  },
  {
   "cell_type": "code",
   "execution_count": 62,
   "id": "55979094-8013-450e-a3bc-0ee4906a978a",
   "metadata": {},
   "outputs": [
    {
     "data": {
      "text/plain": [
       "\"I tried this and I found it too salty.Plus I ate this fish sauce with some fish but I realized it was kind of redundant.I'm kidding, of course. This stuff is great!\""
      ]
     },
     "execution_count": 62,
     "metadata": {},
     "output_type": "execute_result"
    }
   ],
   "source": [
    "result_subset['Text'][1010]"
   ]
  },
  {
   "cell_type": "code",
   "execution_count": 63,
   "id": "5927fc80-b8c8-4ae9-9e7d-989faffb7fc9",
   "metadata": {},
   "outputs": [],
   "source": [
    "result_subset.at[1010, 'ground_true_label']='POSITIVE'"
   ]
  },
  {
   "cell_type": "code",
   "execution_count": 64,
   "id": "e45dfb82-fc39-4407-ab86-4d3fe05a4926",
   "metadata": {},
   "outputs": [
    {
     "data": {
      "text/plain": [
       "'They are good but wish they were also baked. Have not found baked no salt potato chips anywhere. If there are any I wish someone would post.'"
      ]
     },
     "execution_count": 64,
     "metadata": {},
     "output_type": "execute_result"
    }
   ],
   "source": [
    "result_subset['Text'][548]"
   ]
  },
  {
   "cell_type": "code",
   "execution_count": 65,
   "id": "635a609f-75e1-497e-994d-03818beca2da",
   "metadata": {},
   "outputs": [],
   "source": [
    "result_subset.at[548, 'ground_true_label']='NEGATIVE'"
   ]
  },
  {
   "cell_type": "code",
   "execution_count": 66,
   "id": "c7bd6526-b8dc-40f6-8e3b-809579db47b5",
   "metadata": {},
   "outputs": [
    {
     "data": {
      "text/plain": [
       "'If you are trying to eat healthy (like me), but love junk food (like me), these are the chips for you.  I have given up potato chips and french fries in my quest to eat guilt free, but a sandwich just needs something on the side. These chips add a great crunch as a side to a sandwich, and are a great snack for only 100 calories. They have no preservatives, no artificial flavors or colors, no cholesterol, 0 grams saturated fat, o grams trans fat, and are gluten free. Ingredients are potato flakes, potato starch, safflower oil and/or sunflower oil, rice flour, sea salt. They would be great to pack in a school lunch or for an after school snack. I ordered them on the subscription plan, a case a month, but might have to add an extra shipment. Everyone I have given a pack to loved them too and came back for more.'"
      ]
     },
     "execution_count": 66,
     "metadata": {},
     "output_type": "execute_result"
    }
   ],
   "source": [
    "result_subset['Text'][1818]"
   ]
  },
  {
   "cell_type": "code",
   "execution_count": 67,
   "id": "31a9c4a7-7d06-4b6d-9652-6d7a5ee95d74",
   "metadata": {},
   "outputs": [],
   "source": [
    "result_subset.at[1818, 'ground_true_label']='POSITIVE'"
   ]
  },
  {
   "cell_type": "code",
   "execution_count": 68,
   "id": "54f6bd74-ae86-48ac-bef4-3c66b623f7b5",
   "metadata": {},
   "outputs": [
    {
     "data": {
      "text/plain": [
       "\"This baking soda works great for cooking or for health reasons.  I take it for acid indigestion and heart burn.  Just a 1 tsp in a half glass of water and it's gone.  I use it to make my body more alkaline, so it's great for changing your pH level in your body!\""
      ]
     },
     "execution_count": 68,
     "metadata": {},
     "output_type": "execute_result"
    }
   ],
   "source": [
    "result_subset['Text'][848]"
   ]
  },
  {
   "cell_type": "code",
   "execution_count": 69,
   "id": "8b4cbb50-0e75-4e24-b4ca-102021ca46f6",
   "metadata": {},
   "outputs": [],
   "source": [
    "result_subset.at[848, 'ground_true_label']='POSITIVE'"
   ]
  },
  {
   "cell_type": "code",
   "execution_count": 70,
   "id": "84f1c7de-da1a-4b54-a817-4b3a177b664c",
   "metadata": {},
   "outputs": [
    {
     "data": {
      "text/plain": [
       "\"You could find this in local supermarkets about 4 months ago but now it nowhere to be found. Every time Kellogg's makes a great cereal, they quit making it soon after. This is the case with Just Right, THAT WAS THE BEST STUFF ON THE PLANET!\""
      ]
     },
     "execution_count": 70,
     "metadata": {},
     "output_type": "execute_result"
    }
   ],
   "source": [
    "result_subset['Text'][1020]"
   ]
  },
  {
   "cell_type": "code",
   "execution_count": 71,
   "id": "f1069eea-156a-42be-9808-6bd0361f7cc0",
   "metadata": {},
   "outputs": [],
   "source": [
    "result_subset.at[1020, 'ground_true_label']='POSITIVE'"
   ]
  },
  {
   "cell_type": "code",
   "execution_count": 72,
   "id": "c26ec4fc-8a5a-4485-a1a4-e172a48eba94",
   "metadata": {},
   "outputs": [
    {
     "data": {
      "text/plain": [
       "\"Forget Starbucks, Peets or anything else. This is the real deal. Like a good vintage wine, Britt coffee is truly gourmet with no after taste! I am really fussy about coffee, and generally avoid it, but after a trip to Costa Rica fell in love with the beverage again! You have to use a French Press to get the full favor so throw away those other coffee making contraptions, your beans deserve the best, your taste buds deserve the best too. No I don't work for Britt and did not get paid to say this!!!!!  But if you guys at Britt read this send me a sample or two!!\""
      ]
     },
     "execution_count": 72,
     "metadata": {},
     "output_type": "execute_result"
    }
   ],
   "source": [
    "result_subset['Text'][1424]"
   ]
  },
  {
   "cell_type": "code",
   "execution_count": 73,
   "id": "012f5c93-79d3-40b5-b9f2-9bd443722e0c",
   "metadata": {},
   "outputs": [],
   "source": [
    "result_subset.at[1424, 'ground_true_label']='POSITIVE'"
   ]
  },
  {
   "cell_type": "code",
   "execution_count": 74,
   "id": "fcb1c6ab-040b-4313-9939-a6fc277b3f8a",
   "metadata": {},
   "outputs": [
    {
     "data": {
      "text/plain": [
       "'They did a very good job with shipping the order quickly....Nothing like Ace Hardware who took a week to ship'"
      ]
     },
     "execution_count": 74,
     "metadata": {},
     "output_type": "execute_result"
    }
   ],
   "source": [
    "result_subset['Text'][724]"
   ]
  },
  {
   "cell_type": "code",
   "execution_count": 75,
   "id": "c54ce43b-ae08-4228-9a43-ab18e17a3cf2",
   "metadata": {},
   "outputs": [],
   "source": [
    "result_subset.at[724, 'ground_true_label']='POSITIVE'"
   ]
  },
  {
   "cell_type": "code",
   "execution_count": 76,
   "id": "94128d69-19f2-4c28-ad39-53cb4aa07fc4",
   "metadata": {},
   "outputs": [
    {
     "data": {
      "text/plain": [
       "\"They're perfect training treats for my dogs.  They go to the place where they're stored and stand there until I get a handful for our play games.\""
      ]
     },
     "execution_count": 76,
     "metadata": {},
     "output_type": "execute_result"
    }
   ],
   "source": [
    "result_subset['Text'][1281]"
   ]
  },
  {
   "cell_type": "code",
   "execution_count": 77,
   "id": "af4d2c42-33ff-4c6d-aa3b-1d0c27383958",
   "metadata": {},
   "outputs": [],
   "source": [
    "result_subset.at[1281, 'ground_true_label']='POSITIVE'"
   ]
  },
  {
   "cell_type": "code",
   "execution_count": null,
   "id": "e6434d68-d66d-41d1-aac6-62eb493e6064",
   "metadata": {},
   "outputs": [],
   "source": []
  },
  {
   "cell_type": "code",
   "execution_count": 78,
   "id": "356eb97f-a9e7-4657-9592-ab9106f15aa2",
   "metadata": {},
   "outputs": [
    {
     "data": {
      "text/html": [
       "<div>\n",
       "<style scoped>\n",
       "    .dataframe tbody tr th:only-of-type {\n",
       "        vertical-align: middle;\n",
       "    }\n",
       "\n",
       "    .dataframe tbody tr th {\n",
       "        vertical-align: top;\n",
       "    }\n",
       "\n",
       "    .dataframe thead th {\n",
       "        text-align: right;\n",
       "    }\n",
       "</style>\n",
       "<table border=\"1\" class=\"dataframe\">\n",
       "  <thead>\n",
       "    <tr style=\"text-align: right;\">\n",
       "      <th></th>\n",
       "      <th>Id</th>\n",
       "      <th>pipe_sentiment</th>\n",
       "      <th>pipe_abs_score</th>\n",
       "      <th>pipe_score</th>\n",
       "      <th>vader_score</th>\n",
       "      <th>vader_sentiment</th>\n",
       "      <th>blob_score</th>\n",
       "      <th>blob_sentiment</th>\n",
       "      <th>ProductId</th>\n",
       "      <th>UserId</th>\n",
       "      <th>Rating</th>\n",
       "      <th>review_dt</th>\n",
       "      <th>Text</th>\n",
       "      <th>Rating_scaled</th>\n",
       "      <th>std_dev</th>\n",
       "      <th>ground_true_label</th>\n",
       "    </tr>\n",
       "  </thead>\n",
       "  <tbody>\n",
       "    <tr>\n",
       "      <th>106</th>\n",
       "      <td>107.0</td>\n",
       "      <td>NEGATIVE</td>\n",
       "      <td>0.999541</td>\n",
       "      <td>-0.999541</td>\n",
       "      <td>0.5719</td>\n",
       "      <td>POSITIVE</td>\n",
       "      <td>1.000000</td>\n",
       "      <td>POSITIVE</td>\n",
       "      <td>B004K2IHUO</td>\n",
       "      <td>A1ZKFQLHFZAEH9</td>\n",
       "      <td>3.0</td>\n",
       "      <td>2009-03-07</td>\n",
       "      <td>not what I was expecting in terms of the compa...</td>\n",
       "      <td>0.0</td>\n",
       "      <td>1.052842</td>\n",
       "      <td>NEGATIVE</td>\n",
       "    </tr>\n",
       "    <tr>\n",
       "      <th>1115</th>\n",
       "      <td>1116.0</td>\n",
       "      <td>NEGATIVE</td>\n",
       "      <td>0.997961</td>\n",
       "      <td>-0.997961</td>\n",
       "      <td>0.5076</td>\n",
       "      <td>POSITIVE</td>\n",
       "      <td>1.000000</td>\n",
       "      <td>POSITIVE</td>\n",
       "      <td>B00469VHRG</td>\n",
       "      <td>A1SB0MNI6H90DG</td>\n",
       "      <td>5.0</td>\n",
       "      <td>2011-10-12</td>\n",
       "      <td>Who doesn't like vegetables that are portable ...</td>\n",
       "      <td>1.0</td>\n",
       "      <td>1.040915</td>\n",
       "      <td>POSITIVE</td>\n",
       "    </tr>\n",
       "    <tr>\n",
       "      <th>1010</th>\n",
       "      <td>1011.0</td>\n",
       "      <td>NEGATIVE</td>\n",
       "      <td>0.991306</td>\n",
       "      <td>-0.991306</td>\n",
       "      <td>0.8197</td>\n",
       "      <td>POSITIVE</td>\n",
       "      <td>0.800000</td>\n",
       "      <td>POSITIVE</td>\n",
       "      <td>B0002MKFEM</td>\n",
       "      <td>A3QLX72AO0DD5Z</td>\n",
       "      <td>5.0</td>\n",
       "      <td>2008-11-11</td>\n",
       "      <td>I tried this and I found it too salty.Plus I a...</td>\n",
       "      <td>1.0</td>\n",
       "      <td>1.039944</td>\n",
       "      <td>POSITIVE</td>\n",
       "    </tr>\n",
       "    <tr>\n",
       "      <th>548</th>\n",
       "      <td>549.0</td>\n",
       "      <td>NEGATIVE</td>\n",
       "      <td>0.997314</td>\n",
       "      <td>-0.997314</td>\n",
       "      <td>0.8855</td>\n",
       "      <td>POSITIVE</td>\n",
       "      <td>0.700000</td>\n",
       "      <td>POSITIVE</td>\n",
       "      <td>B000G6RYNE</td>\n",
       "      <td>A6UFSCD6O8JMT</td>\n",
       "      <td>4.0</td>\n",
       "      <td>2009-11-01</td>\n",
       "      <td>They are good but wish they were also baked. H...</td>\n",
       "      <td>0.5</td>\n",
       "      <td>1.037647</td>\n",
       "      <td>NEGATIVE</td>\n",
       "    </tr>\n",
       "    <tr>\n",
       "      <th>1818</th>\n",
       "      <td>1819.0</td>\n",
       "      <td>NEGATIVE</td>\n",
       "      <td>0.996634</td>\n",
       "      <td>-0.996634</td>\n",
       "      <td>0.9917</td>\n",
       "      <td>POSITIVE</td>\n",
       "      <td>0.407143</td>\n",
       "      <td>POSITIVE</td>\n",
       "      <td>B001RVFDOO</td>\n",
       "      <td>A1RP76H33ZV6P5</td>\n",
       "      <td>5.0</td>\n",
       "      <td>2011-09-21</td>\n",
       "      <td>If you are trying to eat healthy (like me), bu...</td>\n",
       "      <td>1.0</td>\n",
       "      <td>1.021908</td>\n",
       "      <td>POSITIVE</td>\n",
       "    </tr>\n",
       "    <tr>\n",
       "      <th>848</th>\n",
       "      <td>849.0</td>\n",
       "      <td>NEGATIVE</td>\n",
       "      <td>0.999288</td>\n",
       "      <td>-0.999288</td>\n",
       "      <td>0.9321</td>\n",
       "      <td>POSITIVE</td>\n",
       "      <td>0.533333</td>\n",
       "      <td>POSITIVE</td>\n",
       "      <td>B0041CKRJC</td>\n",
       "      <td>A2EIIDTYMJAEXV</td>\n",
       "      <td>5.0</td>\n",
       "      <td>2012-08-29</td>\n",
       "      <td>This baking soda works great for cooking or fo...</td>\n",
       "      <td>1.0</td>\n",
       "      <td>1.019657</td>\n",
       "      <td>POSITIVE</td>\n",
       "    </tr>\n",
       "    <tr>\n",
       "      <th>1020</th>\n",
       "      <td>1021.0</td>\n",
       "      <td>NEGATIVE</td>\n",
       "      <td>0.986645</td>\n",
       "      <td>-0.986645</td>\n",
       "      <td>0.9417</td>\n",
       "      <td>POSITIVE</td>\n",
       "      <td>0.521429</td>\n",
       "      <td>POSITIVE</td>\n",
       "      <td>B001E6KBSK</td>\n",
       "      <td>A1CLBQQ7A77FSI</td>\n",
       "      <td>5.0</td>\n",
       "      <td>2010-10-15</td>\n",
       "      <td>You could find this in local supermarkets abou...</td>\n",
       "      <td>1.0</td>\n",
       "      <td>1.014021</td>\n",
       "      <td>POSITIVE</td>\n",
       "    </tr>\n",
       "    <tr>\n",
       "      <th>1424</th>\n",
       "      <td>1425.0</td>\n",
       "      <td>NEGATIVE</td>\n",
       "      <td>0.989084</td>\n",
       "      <td>-0.989084</td>\n",
       "      <td>0.9759</td>\n",
       "      <td>POSITIVE</td>\n",
       "      <td>0.417500</td>\n",
       "      <td>POSITIVE</td>\n",
       "      <td>B00061NJ06</td>\n",
       "      <td>A2646GV1ORUO88</td>\n",
       "      <td>5.0</td>\n",
       "      <td>2007-05-23</td>\n",
       "      <td>Forget Starbucks, Peets or anything else. This...</td>\n",
       "      <td>1.0</td>\n",
       "      <td>1.012542</td>\n",
       "      <td>POSITIVE</td>\n",
       "    </tr>\n",
       "    <tr>\n",
       "      <th>724</th>\n",
       "      <td>725.0</td>\n",
       "      <td>NEGATIVE</td>\n",
       "      <td>0.936650</td>\n",
       "      <td>-0.936650</td>\n",
       "      <td>0.6901</td>\n",
       "      <td>POSITIVE</td>\n",
       "      <td>0.910000</td>\n",
       "      <td>POSITIVE</td>\n",
       "      <td>B000G6MBX2</td>\n",
       "      <td>A1KBNKFKAWYV7L</td>\n",
       "      <td>5.0</td>\n",
       "      <td>2007-08-10</td>\n",
       "      <td>They did a very good job with shipping the ord...</td>\n",
       "      <td>1.0</td>\n",
       "      <td>1.008694</td>\n",
       "      <td>POSITIVE</td>\n",
       "    </tr>\n",
       "    <tr>\n",
       "      <th>1281</th>\n",
       "      <td>1282.0</td>\n",
       "      <td>NEGATIVE</td>\n",
       "      <td>0.857407</td>\n",
       "      <td>-0.857407</td>\n",
       "      <td>0.7269</td>\n",
       "      <td>POSITIVE</td>\n",
       "      <td>1.000000</td>\n",
       "      <td>POSITIVE</td>\n",
       "      <td>B000WNJ73Q</td>\n",
       "      <td>A219LI5KK8V8R1</td>\n",
       "      <td>5.0</td>\n",
       "      <td>2011-02-25</td>\n",
       "      <td>They're perfect training treats for my dogs.  ...</td>\n",
       "      <td>1.0</td>\n",
       "      <td>1.002877</td>\n",
       "      <td>POSITIVE</td>\n",
       "    </tr>\n",
       "  </tbody>\n",
       "</table>\n",
       "</div>"
      ],
      "text/plain": [
       "          Id pipe_sentiment  pipe_abs_score  pipe_score  vader_score  \\\n",
       "106    107.0       NEGATIVE        0.999541   -0.999541       0.5719   \n",
       "1115  1116.0       NEGATIVE        0.997961   -0.997961       0.5076   \n",
       "1010  1011.0       NEGATIVE        0.991306   -0.991306       0.8197   \n",
       "548    549.0       NEGATIVE        0.997314   -0.997314       0.8855   \n",
       "1818  1819.0       NEGATIVE        0.996634   -0.996634       0.9917   \n",
       "848    849.0       NEGATIVE        0.999288   -0.999288       0.9321   \n",
       "1020  1021.0       NEGATIVE        0.986645   -0.986645       0.9417   \n",
       "1424  1425.0       NEGATIVE        0.989084   -0.989084       0.9759   \n",
       "724    725.0       NEGATIVE        0.936650   -0.936650       0.6901   \n",
       "1281  1282.0       NEGATIVE        0.857407   -0.857407       0.7269   \n",
       "\n",
       "     vader_sentiment  blob_score blob_sentiment   ProductId          UserId  \\\n",
       "106         POSITIVE    1.000000       POSITIVE  B004K2IHUO  A1ZKFQLHFZAEH9   \n",
       "1115        POSITIVE    1.000000       POSITIVE  B00469VHRG  A1SB0MNI6H90DG   \n",
       "1010        POSITIVE    0.800000       POSITIVE  B0002MKFEM  A3QLX72AO0DD5Z   \n",
       "548         POSITIVE    0.700000       POSITIVE  B000G6RYNE   A6UFSCD6O8JMT   \n",
       "1818        POSITIVE    0.407143       POSITIVE  B001RVFDOO  A1RP76H33ZV6P5   \n",
       "848         POSITIVE    0.533333       POSITIVE  B0041CKRJC  A2EIIDTYMJAEXV   \n",
       "1020        POSITIVE    0.521429       POSITIVE  B001E6KBSK  A1CLBQQ7A77FSI   \n",
       "1424        POSITIVE    0.417500       POSITIVE  B00061NJ06  A2646GV1ORUO88   \n",
       "724         POSITIVE    0.910000       POSITIVE  B000G6MBX2  A1KBNKFKAWYV7L   \n",
       "1281        POSITIVE    1.000000       POSITIVE  B000WNJ73Q  A219LI5KK8V8R1   \n",
       "\n",
       "      Rating  review_dt                                               Text  \\\n",
       "106      3.0 2009-03-07  not what I was expecting in terms of the compa...   \n",
       "1115     5.0 2011-10-12  Who doesn't like vegetables that are portable ...   \n",
       "1010     5.0 2008-11-11  I tried this and I found it too salty.Plus I a...   \n",
       "548      4.0 2009-11-01  They are good but wish they were also baked. H...   \n",
       "1818     5.0 2011-09-21  If you are trying to eat healthy (like me), bu...   \n",
       "848      5.0 2012-08-29  This baking soda works great for cooking or fo...   \n",
       "1020     5.0 2010-10-15  You could find this in local supermarkets abou...   \n",
       "1424     5.0 2007-05-23  Forget Starbucks, Peets or anything else. This...   \n",
       "724      5.0 2007-08-10  They did a very good job with shipping the ord...   \n",
       "1281     5.0 2011-02-25  They're perfect training treats for my dogs.  ...   \n",
       "\n",
       "      Rating_scaled   std_dev ground_true_label  \n",
       "106             0.0  1.052842          NEGATIVE  \n",
       "1115            1.0  1.040915          POSITIVE  \n",
       "1010            1.0  1.039944          POSITIVE  \n",
       "548             0.5  1.037647          NEGATIVE  \n",
       "1818            1.0  1.021908          POSITIVE  \n",
       "848             1.0  1.019657          POSITIVE  \n",
       "1020            1.0  1.014021          POSITIVE  \n",
       "1424            1.0  1.012542          POSITIVE  \n",
       "724             1.0  1.008694          POSITIVE  \n",
       "1281            1.0  1.002877          POSITIVE  "
      ]
     },
     "execution_count": 78,
     "metadata": {},
     "output_type": "execute_result"
    }
   ],
   "source": [
    "result_subset"
   ]
  },
  {
   "cell_type": "markdown",
   "id": "20ba5fb7-031d-4fb2-ae50-866f0b9535f5",
   "metadata": {},
   "source": [
    "**Note:** Lets try some another model"
   ]
  },
  {
   "cell_type": "markdown",
   "id": "3f83b80f-394e-4442-be48-f6dd372064c8",
   "metadata": {},
   "source": [
    "# Model: juliensimon/reviews-sentiment-analysis"
   ]
  },
  {
   "cell_type": "code",
   "execution_count": 79,
   "id": "5d66804e-ada7-4c64-9f88-6accd3cc9f78",
   "metadata": {},
   "outputs": [
    {
     "name": "stderr",
     "output_type": "stream",
     "text": [
      "All PyTorch model weights were used when initializing TFDistilBertForSequenceClassification.\n",
      "\n",
      "All the weights of TFDistilBertForSequenceClassification were initialized from the PyTorch model.\n",
      "If your task is similar to the task the model of the checkpoint was trained on, you can already use TFDistilBertForSequenceClassification for predictions without further training.\n"
     ]
    }
   ],
   "source": [
    "pipe = pipeline(\"text-classification\", model=\"juliensimon/reviews-sentiment-analysis\")"
   ]
  },
  {
   "cell_type": "code",
   "execution_count": 80,
   "id": "3dfd2202-147b-42db-9713-87a88f17cd1c",
   "metadata": {},
   "outputs": [
    {
     "data": {
      "text/plain": [
       "[{'label': 'LABEL_1', 'score': 0.9240886569023132}]"
      ]
     },
     "execution_count": 80,
     "metadata": {},
     "output_type": "execute_result"
    }
   ],
   "source": [
    "pipe('I love it') #positive"
   ]
  },
  {
   "cell_type": "code",
   "execution_count": 81,
   "id": "c3eb7577-05f5-4111-b3e2-8ebeb38f5de2",
   "metadata": {},
   "outputs": [
    {
     "data": {
      "text/plain": [
       "[{'label': 'LABEL_0', 'score': 0.9973028898239136}]"
      ]
     },
     "execution_count": 81,
     "metadata": {},
     "output_type": "execute_result"
    }
   ],
   "source": [
    "pipe('I hate it') #negative"
   ]
  },
  {
   "cell_type": "code",
   "execution_count": 82,
   "id": "fdba2c5a-421d-4366-8f79-4c86f9911581",
   "metadata": {},
   "outputs": [],
   "source": [
    "res_pipe2=pipe(list(result_subset['Text']))"
   ]
  },
  {
   "cell_type": "code",
   "execution_count": 83,
   "id": "500a3668-6b9f-4c45-830e-56b88c2a1cc1",
   "metadata": {},
   "outputs": [
    {
     "data": {
      "text/plain": [
       "[{'label': 'LABEL_0', 'score': 0.9964134097099304},\n",
       " {'label': 'LABEL_1', 'score': 0.9236432909965515},\n",
       " {'label': 'LABEL_0', 'score': 0.8722414970397949},\n",
       " {'label': 'LABEL_0', 'score': 0.758121907711029},\n",
       " {'label': 'LABEL_1', 'score': 0.8966577649116516},\n",
       " {'label': 'LABEL_1', 'score': 0.7396501898765564},\n",
       " {'label': 'LABEL_0', 'score': 0.6397117376327515},\n",
       " {'label': 'LABEL_0', 'score': 0.8544692397117615},\n",
       " {'label': 'LABEL_1', 'score': 0.8178115487098694},\n",
       " {'label': 'LABEL_1', 'score': 0.9664928317070007}]"
      ]
     },
     "execution_count": 83,
     "metadata": {},
     "output_type": "execute_result"
    }
   ],
   "source": [
    "res_pipe2"
   ]
  },
  {
   "cell_type": "code",
   "execution_count": 84,
   "id": "655ef069-bb31-4500-ba8d-f8163f694958",
   "metadata": {},
   "outputs": [
    {
     "data": {
      "text/html": [
       "<div>\n",
       "<style scoped>\n",
       "    .dataframe tbody tr th:only-of-type {\n",
       "        vertical-align: middle;\n",
       "    }\n",
       "\n",
       "    .dataframe tbody tr th {\n",
       "        vertical-align: top;\n",
       "    }\n",
       "\n",
       "    .dataframe thead th {\n",
       "        text-align: right;\n",
       "    }\n",
       "</style>\n",
       "<table border=\"1\" class=\"dataframe\">\n",
       "  <thead>\n",
       "    <tr style=\"text-align: right;\">\n",
       "      <th></th>\n",
       "      <th>label</th>\n",
       "      <th>score</th>\n",
       "      <th>pipe2_sentiment</th>\n",
       "    </tr>\n",
       "  </thead>\n",
       "  <tbody>\n",
       "    <tr>\n",
       "      <th>106</th>\n",
       "      <td>LABEL_0</td>\n",
       "      <td>0.996413</td>\n",
       "      <td>NEGATIVE</td>\n",
       "    </tr>\n",
       "    <tr>\n",
       "      <th>1115</th>\n",
       "      <td>LABEL_1</td>\n",
       "      <td>0.923643</td>\n",
       "      <td>POSITIVE</td>\n",
       "    </tr>\n",
       "    <tr>\n",
       "      <th>1010</th>\n",
       "      <td>LABEL_0</td>\n",
       "      <td>0.872241</td>\n",
       "      <td>NEGATIVE</td>\n",
       "    </tr>\n",
       "    <tr>\n",
       "      <th>548</th>\n",
       "      <td>LABEL_0</td>\n",
       "      <td>0.758122</td>\n",
       "      <td>NEGATIVE</td>\n",
       "    </tr>\n",
       "    <tr>\n",
       "      <th>1818</th>\n",
       "      <td>LABEL_1</td>\n",
       "      <td>0.896658</td>\n",
       "      <td>POSITIVE</td>\n",
       "    </tr>\n",
       "    <tr>\n",
       "      <th>848</th>\n",
       "      <td>LABEL_1</td>\n",
       "      <td>0.739650</td>\n",
       "      <td>POSITIVE</td>\n",
       "    </tr>\n",
       "    <tr>\n",
       "      <th>1020</th>\n",
       "      <td>LABEL_0</td>\n",
       "      <td>0.639712</td>\n",
       "      <td>NEGATIVE</td>\n",
       "    </tr>\n",
       "    <tr>\n",
       "      <th>1424</th>\n",
       "      <td>LABEL_0</td>\n",
       "      <td>0.854469</td>\n",
       "      <td>NEGATIVE</td>\n",
       "    </tr>\n",
       "    <tr>\n",
       "      <th>724</th>\n",
       "      <td>LABEL_1</td>\n",
       "      <td>0.817812</td>\n",
       "      <td>POSITIVE</td>\n",
       "    </tr>\n",
       "    <tr>\n",
       "      <th>1281</th>\n",
       "      <td>LABEL_1</td>\n",
       "      <td>0.966493</td>\n",
       "      <td>POSITIVE</td>\n",
       "    </tr>\n",
       "  </tbody>\n",
       "</table>\n",
       "</div>"
      ],
      "text/plain": [
       "        label     score pipe2_sentiment\n",
       "106   LABEL_0  0.996413        NEGATIVE\n",
       "1115  LABEL_1  0.923643        POSITIVE\n",
       "1010  LABEL_0  0.872241        NEGATIVE\n",
       "548   LABEL_0  0.758122        NEGATIVE\n",
       "1818  LABEL_1  0.896658        POSITIVE\n",
       "848   LABEL_1  0.739650        POSITIVE\n",
       "1020  LABEL_0  0.639712        NEGATIVE\n",
       "1424  LABEL_0  0.854469        NEGATIVE\n",
       "724   LABEL_1  0.817812        POSITIVE\n",
       "1281  LABEL_1  0.966493        POSITIVE"
      ]
     },
     "execution_count": 84,
     "metadata": {},
     "output_type": "execute_result"
    }
   ],
   "source": [
    "pipe2_subset_df = pd.DataFrame(res_pipe2,index=result_subset.index)\n",
    "pipe2_subset_df['pipe2_sentiment']=''\n",
    "pipe2_subset_df['pipe2_sentiment'] = np.where((pipe2_subset_df['label'] == 'LABEL_0'),\n",
    "                                              'NEGATIVE', 'POSITIVE')\n",
    "pipe2_subset_df.head(10)"
   ]
  },
  {
   "cell_type": "code",
   "execution_count": 85,
   "id": "24964467-237d-4b4b-a15b-2a4c59d79d27",
   "metadata": {},
   "outputs": [],
   "source": [
    "result_subset_pipe2=pipe2_subset_df.merge(result_subset,how='left', left_index=True, right_index=True)"
   ]
  },
  {
   "cell_type": "code",
   "execution_count": 86,
   "id": "6e005c93-2ef0-478f-869f-59409f5438bf",
   "metadata": {},
   "outputs": [
    {
     "data": {
      "text/html": [
       "<div>\n",
       "<style scoped>\n",
       "    .dataframe tbody tr th:only-of-type {\n",
       "        vertical-align: middle;\n",
       "    }\n",
       "\n",
       "    .dataframe tbody tr th {\n",
       "        vertical-align: top;\n",
       "    }\n",
       "\n",
       "    .dataframe thead th {\n",
       "        text-align: right;\n",
       "    }\n",
       "</style>\n",
       "<table border=\"1\" class=\"dataframe\">\n",
       "  <thead>\n",
       "    <tr style=\"text-align: right;\">\n",
       "      <th></th>\n",
       "      <th>pipe2_sentiment</th>\n",
       "      <th>pipe_sentiment</th>\n",
       "      <th>vader_sentiment</th>\n",
       "      <th>blob_sentiment</th>\n",
       "      <th>ground_true_label</th>\n",
       "    </tr>\n",
       "  </thead>\n",
       "  <tbody>\n",
       "    <tr>\n",
       "      <th>106</th>\n",
       "      <td>NEGATIVE</td>\n",
       "      <td>NEGATIVE</td>\n",
       "      <td>POSITIVE</td>\n",
       "      <td>POSITIVE</td>\n",
       "      <td>NEGATIVE</td>\n",
       "    </tr>\n",
       "    <tr>\n",
       "      <th>1115</th>\n",
       "      <td>POSITIVE</td>\n",
       "      <td>NEGATIVE</td>\n",
       "      <td>POSITIVE</td>\n",
       "      <td>POSITIVE</td>\n",
       "      <td>POSITIVE</td>\n",
       "    </tr>\n",
       "    <tr>\n",
       "      <th>1010</th>\n",
       "      <td>NEGATIVE</td>\n",
       "      <td>NEGATIVE</td>\n",
       "      <td>POSITIVE</td>\n",
       "      <td>POSITIVE</td>\n",
       "      <td>POSITIVE</td>\n",
       "    </tr>\n",
       "    <tr>\n",
       "      <th>548</th>\n",
       "      <td>NEGATIVE</td>\n",
       "      <td>NEGATIVE</td>\n",
       "      <td>POSITIVE</td>\n",
       "      <td>POSITIVE</td>\n",
       "      <td>NEGATIVE</td>\n",
       "    </tr>\n",
       "    <tr>\n",
       "      <th>1818</th>\n",
       "      <td>POSITIVE</td>\n",
       "      <td>NEGATIVE</td>\n",
       "      <td>POSITIVE</td>\n",
       "      <td>POSITIVE</td>\n",
       "      <td>POSITIVE</td>\n",
       "    </tr>\n",
       "    <tr>\n",
       "      <th>848</th>\n",
       "      <td>POSITIVE</td>\n",
       "      <td>NEGATIVE</td>\n",
       "      <td>POSITIVE</td>\n",
       "      <td>POSITIVE</td>\n",
       "      <td>POSITIVE</td>\n",
       "    </tr>\n",
       "    <tr>\n",
       "      <th>1020</th>\n",
       "      <td>NEGATIVE</td>\n",
       "      <td>NEGATIVE</td>\n",
       "      <td>POSITIVE</td>\n",
       "      <td>POSITIVE</td>\n",
       "      <td>POSITIVE</td>\n",
       "    </tr>\n",
       "    <tr>\n",
       "      <th>1424</th>\n",
       "      <td>NEGATIVE</td>\n",
       "      <td>NEGATIVE</td>\n",
       "      <td>POSITIVE</td>\n",
       "      <td>POSITIVE</td>\n",
       "      <td>POSITIVE</td>\n",
       "    </tr>\n",
       "    <tr>\n",
       "      <th>724</th>\n",
       "      <td>POSITIVE</td>\n",
       "      <td>NEGATIVE</td>\n",
       "      <td>POSITIVE</td>\n",
       "      <td>POSITIVE</td>\n",
       "      <td>POSITIVE</td>\n",
       "    </tr>\n",
       "    <tr>\n",
       "      <th>1281</th>\n",
       "      <td>POSITIVE</td>\n",
       "      <td>NEGATIVE</td>\n",
       "      <td>POSITIVE</td>\n",
       "      <td>POSITIVE</td>\n",
       "      <td>POSITIVE</td>\n",
       "    </tr>\n",
       "  </tbody>\n",
       "</table>\n",
       "</div>"
      ],
      "text/plain": [
       "     pipe2_sentiment pipe_sentiment vader_sentiment blob_sentiment  \\\n",
       "106         NEGATIVE       NEGATIVE        POSITIVE       POSITIVE   \n",
       "1115        POSITIVE       NEGATIVE        POSITIVE       POSITIVE   \n",
       "1010        NEGATIVE       NEGATIVE        POSITIVE       POSITIVE   \n",
       "548         NEGATIVE       NEGATIVE        POSITIVE       POSITIVE   \n",
       "1818        POSITIVE       NEGATIVE        POSITIVE       POSITIVE   \n",
       "848         POSITIVE       NEGATIVE        POSITIVE       POSITIVE   \n",
       "1020        NEGATIVE       NEGATIVE        POSITIVE       POSITIVE   \n",
       "1424        NEGATIVE       NEGATIVE        POSITIVE       POSITIVE   \n",
       "724         POSITIVE       NEGATIVE        POSITIVE       POSITIVE   \n",
       "1281        POSITIVE       NEGATIVE        POSITIVE       POSITIVE   \n",
       "\n",
       "     ground_true_label  \n",
       "106           NEGATIVE  \n",
       "1115          POSITIVE  \n",
       "1010          POSITIVE  \n",
       "548           NEGATIVE  \n",
       "1818          POSITIVE  \n",
       "848           POSITIVE  \n",
       "1020          POSITIVE  \n",
       "1424          POSITIVE  \n",
       "724           POSITIVE  \n",
       "1281          POSITIVE  "
      ]
     },
     "execution_count": 86,
     "metadata": {},
     "output_type": "execute_result"
    }
   ],
   "source": [
    "#lets compare sentiment with ground true labels\n",
    "result_subset_pipe2[['pipe2_sentiment','pipe_sentiment','vader_sentiment','blob_sentiment','ground_true_label']]"
   ]
  },
  {
   "cell_type": "code",
   "execution_count": 87,
   "id": "8b34fc9f-00fc-4fb6-b291-4ad28750821a",
   "metadata": {},
   "outputs": [],
   "source": [
    "# we can see that pipe2_sentiment works better than the rest\n",
    "#lets run this in entire dataset\n",
    "julien_pipe=pipe(list(result_df['Text']),padding=True, truncation=True)"
   ]
  },
  {
   "cell_type": "code",
   "execution_count": 88,
   "id": "3fffe520-1a78-401c-99f1-2d86ebd5995f",
   "metadata": {},
   "outputs": [
    {
     "data": {
      "text/html": [
       "<div>\n",
       "<style scoped>\n",
       "    .dataframe tbody tr th:only-of-type {\n",
       "        vertical-align: middle;\n",
       "    }\n",
       "\n",
       "    .dataframe tbody tr th {\n",
       "        vertical-align: top;\n",
       "    }\n",
       "\n",
       "    .dataframe thead th {\n",
       "        text-align: right;\n",
       "    }\n",
       "</style>\n",
       "<table border=\"1\" class=\"dataframe\">\n",
       "  <thead>\n",
       "    <tr style=\"text-align: right;\">\n",
       "      <th></th>\n",
       "      <th>label</th>\n",
       "      <th>score</th>\n",
       "      <th>julien_sentiment</th>\n",
       "    </tr>\n",
       "  </thead>\n",
       "  <tbody>\n",
       "    <tr>\n",
       "      <th>0</th>\n",
       "      <td>LABEL_1</td>\n",
       "      <td>0.962997</td>\n",
       "      <td>POSITIVE</td>\n",
       "    </tr>\n",
       "    <tr>\n",
       "      <th>1</th>\n",
       "      <td>LABEL_0</td>\n",
       "      <td>0.968888</td>\n",
       "      <td>NEGATIVE</td>\n",
       "    </tr>\n",
       "    <tr>\n",
       "      <th>2</th>\n",
       "      <td>LABEL_1</td>\n",
       "      <td>0.980880</td>\n",
       "      <td>POSITIVE</td>\n",
       "    </tr>\n",
       "    <tr>\n",
       "      <th>3</th>\n",
       "      <td>LABEL_1</td>\n",
       "      <td>0.767588</td>\n",
       "      <td>POSITIVE</td>\n",
       "    </tr>\n",
       "    <tr>\n",
       "      <th>4</th>\n",
       "      <td>LABEL_1</td>\n",
       "      <td>0.988336</td>\n",
       "      <td>POSITIVE</td>\n",
       "    </tr>\n",
       "  </tbody>\n",
       "</table>\n",
       "</div>"
      ],
      "text/plain": [
       "     label     score julien_sentiment\n",
       "0  LABEL_1  0.962997         POSITIVE\n",
       "1  LABEL_0  0.968888         NEGATIVE\n",
       "2  LABEL_1  0.980880         POSITIVE\n",
       "3  LABEL_1  0.767588         POSITIVE\n",
       "4  LABEL_1  0.988336         POSITIVE"
      ]
     },
     "execution_count": 88,
     "metadata": {},
     "output_type": "execute_result"
    }
   ],
   "source": [
    "julien_pipe_df = pd.DataFrame(julien_pipe,index=result_df.index)\n",
    "julien_pipe_df['julien_sentiment']=''\n",
    "julien_pipe_df['julien_sentiment'] = np.where((julien_pipe_df['label'] == 'LABEL_0'),\n",
    "                                              'NEGATIVE', 'POSITIVE')\n",
    "julien_pipe_df.head()"
   ]
  },
  {
   "cell_type": "code",
   "execution_count": 89,
   "id": "0c7d8774-8e74-4a52-aca9-8c7ddbba6dc2",
   "metadata": {},
   "outputs": [
    {
     "data": {
      "text/html": [
       "<div>\n",
       "<style scoped>\n",
       "    .dataframe tbody tr th:only-of-type {\n",
       "        vertical-align: middle;\n",
       "    }\n",
       "\n",
       "    .dataframe tbody tr th {\n",
       "        vertical-align: top;\n",
       "    }\n",
       "\n",
       "    .dataframe thead th {\n",
       "        text-align: right;\n",
       "    }\n",
       "</style>\n",
       "<table border=\"1\" class=\"dataframe\">\n",
       "  <thead>\n",
       "    <tr style=\"text-align: right;\">\n",
       "      <th></th>\n",
       "      <th>julien_sentiment</th>\n",
       "      <th>julien_score</th>\n",
       "    </tr>\n",
       "  </thead>\n",
       "  <tbody>\n",
       "    <tr>\n",
       "      <th>0</th>\n",
       "      <td>POSITIVE</td>\n",
       "      <td>0.962997</td>\n",
       "    </tr>\n",
       "    <tr>\n",
       "      <th>1</th>\n",
       "      <td>NEGATIVE</td>\n",
       "      <td>-0.968888</td>\n",
       "    </tr>\n",
       "    <tr>\n",
       "      <th>2</th>\n",
       "      <td>POSITIVE</td>\n",
       "      <td>0.980880</td>\n",
       "    </tr>\n",
       "    <tr>\n",
       "      <th>3</th>\n",
       "      <td>POSITIVE</td>\n",
       "      <td>0.767588</td>\n",
       "    </tr>\n",
       "    <tr>\n",
       "      <th>4</th>\n",
       "      <td>POSITIVE</td>\n",
       "      <td>0.988336</td>\n",
       "    </tr>\n",
       "  </tbody>\n",
       "</table>\n",
       "</div>"
      ],
      "text/plain": [
       "  julien_sentiment  julien_score\n",
       "0         POSITIVE      0.962997\n",
       "1         NEGATIVE     -0.968888\n",
       "2         POSITIVE      0.980880\n",
       "3         POSITIVE      0.767588\n",
       "4         POSITIVE      0.988336"
      ]
     },
     "execution_count": 89,
     "metadata": {},
     "output_type": "execute_result"
    }
   ],
   "source": [
    "#change the score sign according to the sentiment\n",
    "julien_pipe_df['julien_score'] = np.where((julien_pipe_df['label'] == 'LABEL_0'), \n",
    "                                          ((-1)*(julien_pipe_df['score'])), julien_pipe_df['score'])\n",
    "julien_pipe_df.drop(columns=['label','score'],inplace=True)\n",
    "julien_pipe_df.head()"
   ]
  },
  {
   "cell_type": "code",
   "execution_count": 90,
   "id": "b9bcc331-3e78-45b2-ae92-6458605a14ec",
   "metadata": {},
   "outputs": [
    {
     "data": {
      "text/html": [
       "<div>\n",
       "<style scoped>\n",
       "    .dataframe tbody tr th:only-of-type {\n",
       "        vertical-align: middle;\n",
       "    }\n",
       "\n",
       "    .dataframe tbody tr th {\n",
       "        vertical-align: top;\n",
       "    }\n",
       "\n",
       "    .dataframe thead th {\n",
       "        text-align: right;\n",
       "    }\n",
       "</style>\n",
       "<table border=\"1\" class=\"dataframe\">\n",
       "  <thead>\n",
       "    <tr style=\"text-align: right;\">\n",
       "      <th></th>\n",
       "      <th>julien_sentiment</th>\n",
       "      <th>julien_score</th>\n",
       "      <th>Id</th>\n",
       "      <th>pipe_sentiment</th>\n",
       "      <th>pipe_abs_score</th>\n",
       "      <th>pipe_score</th>\n",
       "      <th>vader_score</th>\n",
       "      <th>vader_sentiment</th>\n",
       "      <th>blob_score</th>\n",
       "      <th>blob_sentiment</th>\n",
       "      <th>ProductId</th>\n",
       "      <th>UserId</th>\n",
       "      <th>Rating</th>\n",
       "      <th>review_dt</th>\n",
       "      <th>Text</th>\n",
       "      <th>Rating_scaled</th>\n",
       "      <th>std_dev</th>\n",
       "    </tr>\n",
       "  </thead>\n",
       "  <tbody>\n",
       "    <tr>\n",
       "      <th>0</th>\n",
       "      <td>POSITIVE</td>\n",
       "      <td>0.962997</td>\n",
       "      <td>1.0</td>\n",
       "      <td>POSITIVE</td>\n",
       "      <td>0.998385</td>\n",
       "      <td>0.998385</td>\n",
       "      <td>0.9441</td>\n",
       "      <td>POSITIVE</td>\n",
       "      <td>0.450000</td>\n",
       "      <td>POSITIVE</td>\n",
       "      <td>B001E4KFG0</td>\n",
       "      <td>A3SGXH7AUHU8GW</td>\n",
       "      <td>5.0</td>\n",
       "      <td>2011-04-27</td>\n",
       "      <td>I have bought several of the Vitality canned d...</td>\n",
       "      <td>1.0</td>\n",
       "      <td>0.302161</td>\n",
       "    </tr>\n",
       "    <tr>\n",
       "      <th>1</th>\n",
       "      <td>NEGATIVE</td>\n",
       "      <td>-0.968888</td>\n",
       "      <td>2.0</td>\n",
       "      <td>NEGATIVE</td>\n",
       "      <td>0.999525</td>\n",
       "      <td>-0.999525</td>\n",
       "      <td>-0.5664</td>\n",
       "      <td>NEGATIVE</td>\n",
       "      <td>-0.033333</td>\n",
       "      <td>NEGATIVE</td>\n",
       "      <td>B00813GRG4</td>\n",
       "      <td>A1D87F6ZCVE5NK</td>\n",
       "      <td>1.0</td>\n",
       "      <td>2012-09-07</td>\n",
       "      <td>Product arrived labeled as Jumbo Salted Peanut...</td>\n",
       "      <td>-1.0</td>\n",
       "      <td>0.483957</td>\n",
       "    </tr>\n",
       "    <tr>\n",
       "      <th>2</th>\n",
       "      <td>POSITIVE</td>\n",
       "      <td>0.980880</td>\n",
       "      <td>3.0</td>\n",
       "      <td>POSITIVE</td>\n",
       "      <td>0.999765</td>\n",
       "      <td>0.999765</td>\n",
       "      <td>0.8138</td>\n",
       "      <td>POSITIVE</td>\n",
       "      <td>0.133571</td>\n",
       "      <td>POSITIVE</td>\n",
       "      <td>B000LQOCH0</td>\n",
       "      <td>ABXLMWJIXXAIN</td>\n",
       "      <td>4.0</td>\n",
       "      <td>2008-08-18</td>\n",
       "      <td>This is a confection that has been around a fe...</td>\n",
       "      <td>0.5</td>\n",
       "      <td>0.455994</td>\n",
       "    </tr>\n",
       "    <tr>\n",
       "      <th>3</th>\n",
       "      <td>POSITIVE</td>\n",
       "      <td>0.767588</td>\n",
       "      <td>4.0</td>\n",
       "      <td>POSITIVE</td>\n",
       "      <td>0.999153</td>\n",
       "      <td>0.999153</td>\n",
       "      <td>0.4404</td>\n",
       "      <td>POSITIVE</td>\n",
       "      <td>0.166667</td>\n",
       "      <td>POSITIVE</td>\n",
       "      <td>B000UA0QIQ</td>\n",
       "      <td>A395BORC6FGVXV</td>\n",
       "      <td>2.0</td>\n",
       "      <td>2011-06-13</td>\n",
       "      <td>If you are looking for the secret ingredient i...</td>\n",
       "      <td>-0.5</td>\n",
       "      <td>0.424297</td>\n",
       "    </tr>\n",
       "    <tr>\n",
       "      <th>4</th>\n",
       "      <td>POSITIVE</td>\n",
       "      <td>0.988336</td>\n",
       "      <td>5.0</td>\n",
       "      <td>POSITIVE</td>\n",
       "      <td>0.998708</td>\n",
       "      <td>0.998708</td>\n",
       "      <td>0.9468</td>\n",
       "      <td>POSITIVE</td>\n",
       "      <td>0.483333</td>\n",
       "      <td>POSITIVE</td>\n",
       "      <td>B006K2ZZ7K</td>\n",
       "      <td>A1UQRSCLF8GW1T</td>\n",
       "      <td>5.0</td>\n",
       "      <td>2012-10-21</td>\n",
       "      <td>Great taffy at a great price.  There was a wid...</td>\n",
       "      <td>1.0</td>\n",
       "      <td>0.283757</td>\n",
       "    </tr>\n",
       "  </tbody>\n",
       "</table>\n",
       "</div>"
      ],
      "text/plain": [
       "  julien_sentiment  julien_score   Id pipe_sentiment  pipe_abs_score  \\\n",
       "0         POSITIVE      0.962997  1.0       POSITIVE        0.998385   \n",
       "1         NEGATIVE     -0.968888  2.0       NEGATIVE        0.999525   \n",
       "2         POSITIVE      0.980880  3.0       POSITIVE        0.999765   \n",
       "3         POSITIVE      0.767588  4.0       POSITIVE        0.999153   \n",
       "4         POSITIVE      0.988336  5.0       POSITIVE        0.998708   \n",
       "\n",
       "   pipe_score  vader_score vader_sentiment  blob_score blob_sentiment  \\\n",
       "0    0.998385       0.9441        POSITIVE    0.450000       POSITIVE   \n",
       "1   -0.999525      -0.5664        NEGATIVE   -0.033333       NEGATIVE   \n",
       "2    0.999765       0.8138        POSITIVE    0.133571       POSITIVE   \n",
       "3    0.999153       0.4404        POSITIVE    0.166667       POSITIVE   \n",
       "4    0.998708       0.9468        POSITIVE    0.483333       POSITIVE   \n",
       "\n",
       "    ProductId          UserId  Rating  review_dt  \\\n",
       "0  B001E4KFG0  A3SGXH7AUHU8GW     5.0 2011-04-27   \n",
       "1  B00813GRG4  A1D87F6ZCVE5NK     1.0 2012-09-07   \n",
       "2  B000LQOCH0   ABXLMWJIXXAIN     4.0 2008-08-18   \n",
       "3  B000UA0QIQ  A395BORC6FGVXV     2.0 2011-06-13   \n",
       "4  B006K2ZZ7K  A1UQRSCLF8GW1T     5.0 2012-10-21   \n",
       "\n",
       "                                                Text  Rating_scaled   std_dev  \n",
       "0  I have bought several of the Vitality canned d...            1.0  0.302161  \n",
       "1  Product arrived labeled as Jumbo Salted Peanut...           -1.0  0.483957  \n",
       "2  This is a confection that has been around a fe...            0.5  0.455994  \n",
       "3  If you are looking for the secret ingredient i...           -0.5  0.424297  \n",
       "4  Great taffy at a great price.  There was a wid...            1.0  0.283757  "
      ]
     },
     "execution_count": 90,
     "metadata": {},
     "output_type": "execute_result"
    }
   ],
   "source": [
    "result_final_df=julien_pipe_df.merge(result_df,how='left', left_index=True, right_index=True)\n",
    "result_final_df.head()"
   ]
  },
  {
   "cell_type": "code",
   "execution_count": 91,
   "id": "92e59178-8f20-4c81-8545-a137371db4c4",
   "metadata": {},
   "outputs": [],
   "source": [
    "# save the final dataframe in output \n",
    "result_final_df.to_csv('../output/sentiment_result_final.csv', index=False)"
   ]
  },
  {
   "cell_type": "code",
   "execution_count": 92,
   "id": "98cdc5f5-c154-4703-a927-4d877b2beb87",
   "metadata": {},
   "outputs": [],
   "source": [
    "#result_final_df=pd.read_csv('../output/sentiment_result_final.csv')"
   ]
  },
  {
   "cell_type": "code",
   "execution_count": 93,
   "id": "859cb725-55f7-4446-bf48-11f1ee370540",
   "metadata": {},
   "outputs": [
    {
     "data": {
      "image/png": "[encoded data removed]",
      "text/plain": [
       "<Figure size 640x480 with 1 Axes>"
      ]
     },
     "metadata": {},
     "output_type": "display_data"
    }
   ],
   "source": [
    "#fig, axs = plt.subplots(1, 3, figsize=(12, 3))\n",
    "ax=sns.barplot(data=result_final_df, x='Rating', y='julien_score')\n",
    "ax.set_title('Julien Score')\n",
    "plt.show()"
   ]
  },
  {
   "cell_type": "markdown",
   "id": "b37c4c22-2404-41c5-80e6-1d294963583f",
   "metadata": {},
   "source": [
    "**Note:** Juliensimon provides the best estimation of the sentiments"
   ]
  }
 ],
 "metadata": {
  "kernelspec": {
   "display_name": "Python 3",
   "language": "python",
   "name": "python3"
  },
  "language_info": {
   "codemirror_mode": {
    "name": "ipython",
    "version": 3
   },
   "file_extension": ".py",
   "mimetype": "text/x-python",
   "name": "python",
   "nbconvert_exporter": "python",
   "pygments_lexer": "ipython3",
   "version": "3.11.5"
  }
 },
 "nbformat": 4,
 "nbformat_minor": 5
}
